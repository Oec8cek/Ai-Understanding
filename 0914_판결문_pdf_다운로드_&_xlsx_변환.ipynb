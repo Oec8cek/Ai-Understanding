{
  "cells": [
    {
      "cell_type": "markdown",
      "metadata": {
        "id": "view-in-github",
        "colab_type": "text"
      },
      "source": [
        "<a href=\"https://colab.research.google.com/github/Oec8cek/Ai-Understanding/blob/main/0914_%ED%8C%90%EA%B2%B0%EB%AC%B8_pdf_%EB%8B%A4%EC%9A%B4%EB%A1%9C%EB%93%9C_%26_xlsx_%EB%B3%80%ED%99%98.ipynb\" target=\"_parent\"><img src=\"https://colab.research.google.com/assets/colab-badge.svg\" alt=\"Open In Colab\"/></a>"
      ]
    },
    {
      "cell_type": "markdown",
      "source": [
        "# Init"
      ],
      "metadata": {
        "id": "6LkCtZlth4fd"
      }
    },
    {
      "cell_type": "code",
      "execution_count": null,
      "metadata": {
        "id": "STbbdyPJBi0H",
        "colab": {
          "base_uri": "https://localhost:8080/"
        },
        "outputId": "d21774b4-89d4-4058-d412-8449bc9e845f"
      },
      "outputs": [
        {
          "output_type": "stream",
          "name": "stdout",
          "text": [
            "Warning: apt-key is deprecated. Manage keyring files in trusted.gpg.d instead (see apt-key(8)).\n",
            "Executing: /tmp/apt-key-gpghome.KodjwKO3bQ/gpg.1.sh --keyserver keyserver.ubuntu.com --recv-keys DCC9EFBF77E11517\n",
            "gpg: key DCC9EFBF77E11517: \"Debian Stable Release Key (10/buster) <debian-release@lists.debian.org>\" not changed\n",
            "gpg: Total number processed: 1\n",
            "gpg:              unchanged: 1\n",
            "Warning: apt-key is deprecated. Manage keyring files in trusted.gpg.d instead (see apt-key(8)).\n",
            "Executing: /tmp/apt-key-gpghome.EZtYnmOkOh/gpg.1.sh --keyserver keyserver.ubuntu.com --recv-keys 648ACFD622F3D138\n",
            "gpg: key DC30D7C23CBBABEE: \"Debian Archive Automatic Signing Key (10/buster) <ftpmaster@debian.org>\" not changed\n",
            "gpg: Total number processed: 1\n",
            "gpg:              unchanged: 1\n",
            "Warning: apt-key is deprecated. Manage keyring files in trusted.gpg.d instead (see apt-key(8)).\n",
            "Executing: /tmp/apt-key-gpghome.nKVJhwZnwt/gpg.1.sh --keyserver keyserver.ubuntu.com --recv-keys 112695A0E562B32A\n",
            "gpg: key 4DFAB270CAA96DFA: \"Debian Security Archive Automatic Signing Key (10/buster) <ftpmaster@debian.org>\" not changed\n",
            "gpg: Total number processed: 1\n",
            "gpg:              unchanged: 1\n",
            "gpg: cannot open '/dev/tty': No such device or address\n",
            "Warning: apt-key is deprecated. Manage keyring files in trusted.gpg.d instead (see apt-key(8)).\n",
            "gpg: [stdout]: write error: Broken pipe\n",
            "gpg: filter_flush failed on close: Broken pipe\n",
            "gpg: cannot open '/dev/tty': No such device or address\n",
            "Warning: apt-key is deprecated. Manage keyring files in trusted.gpg.d instead (see apt-key(8)).\n",
            "gpg: [stdout]: write error: Broken pipe\n",
            "gpg: filter_flush failed on close: Broken pipe\n",
            "gpg: cannot open '/dev/tty': No such device or address\n",
            "Warning: apt-key is deprecated. Manage keyring files in trusted.gpg.d instead (see apt-key(8)).\n",
            "gpg: [stdout]: write error: Broken pipe\n",
            "gpg: filter_flush failed on close: Broken pipe\n",
            "Hit:1 http://security.ubuntu.com/ubuntu jammy-security InRelease\n",
            "Hit:2 http://deb.debian.org/debian buster InRelease\n",
            "Hit:3 https://cloud.r-project.org/bin/linux/ubuntu jammy-cran40/ InRelease\n",
            "Hit:4 http://archive.ubuntu.com/ubuntu jammy InRelease\n",
            "Hit:5 http://deb.debian.org/debian buster-updates InRelease\n",
            "Hit:6 https://developer.download.nvidia.com/compute/cuda/repos/ubuntu2204/x86_64  InRelease\n",
            "Hit:7 http://archive.ubuntu.com/ubuntu jammy-updates InRelease\n",
            "Hit:8 http://deb.debian.org/debian-security buster/updates InRelease\n",
            "Hit:9 http://archive.ubuntu.com/ubuntu jammy-backports InRelease\n",
            "Hit:10 https://ppa.launchpadcontent.net/c2d4u.team/c2d4u4.0+/ubuntu jammy InRelease\n",
            "Hit:11 https://ppa.launchpadcontent.net/deadsnakes/ppa/ubuntu jammy InRelease\n",
            "Hit:12 https://ppa.launchpadcontent.net/graphics-drivers/ppa/ubuntu jammy InRelease\n",
            "Hit:13 https://ppa.launchpadcontent.net/ubuntugis/ppa/ubuntu jammy InRelease\n",
            "Reading package lists... Done\n",
            "Reading package lists... Done\n",
            "Building dependency tree... Done\n",
            "Reading state information... Done\n",
            "chromium is already the newest version (90.0.4430.212-1~deb10u1).\n",
            "chromium-driver is already the newest version (90.0.4430.212-1~deb10u1).\n",
            "0 upgraded, 0 newly installed, 0 to remove and 34 not upgraded.\n",
            "Requirement already satisfied: selenium in /usr/local/lib/python3.10/dist-packages (4.12.0)\n",
            "Requirement already satisfied: urllib3[socks]<3,>=1.26 in /usr/local/lib/python3.10/dist-packages (from selenium) (2.0.4)\n",
            "Requirement already satisfied: trio~=0.17 in /usr/local/lib/python3.10/dist-packages (from selenium) (0.22.2)\n",
            "Requirement already satisfied: trio-websocket~=0.9 in /usr/local/lib/python3.10/dist-packages (from selenium) (0.10.4)\n",
            "Requirement already satisfied: certifi>=2021.10.8 in /usr/local/lib/python3.10/dist-packages (from selenium) (2023.7.22)\n",
            "Requirement already satisfied: attrs>=20.1.0 in /usr/local/lib/python3.10/dist-packages (from trio~=0.17->selenium) (23.1.0)\n",
            "Requirement already satisfied: sortedcontainers in /usr/local/lib/python3.10/dist-packages (from trio~=0.17->selenium) (2.4.0)\n",
            "Requirement already satisfied: idna in /usr/local/lib/python3.10/dist-packages (from trio~=0.17->selenium) (3.4)\n",
            "Requirement already satisfied: outcome in /usr/local/lib/python3.10/dist-packages (from trio~=0.17->selenium) (1.2.0)\n",
            "Requirement already satisfied: sniffio in /usr/local/lib/python3.10/dist-packages (from trio~=0.17->selenium) (1.3.0)\n",
            "Requirement already satisfied: exceptiongroup>=1.0.0rc9 in /usr/local/lib/python3.10/dist-packages (from trio~=0.17->selenium) (1.1.3)\n",
            "Requirement already satisfied: wsproto>=0.14 in /usr/local/lib/python3.10/dist-packages (from trio-websocket~=0.9->selenium) (1.2.0)\n",
            "Requirement already satisfied: pysocks!=1.5.7,<2.0,>=1.5.6 in /usr/local/lib/python3.10/dist-packages (from urllib3[socks]<3,>=1.26->selenium) (1.7.1)\n",
            "Requirement already satisfied: h11<1,>=0.9.0 in /usr/local/lib/python3.10/dist-packages (from wsproto>=0.14->trio-websocket~=0.9->selenium) (0.14.0)\n"
          ]
        },
        {
          "output_type": "execute_result",
          "data": {
            "text/plain": []
          },
          "metadata": {},
          "execution_count": 1
        }
      ],
      "source": [
        "%%shell\n",
        "# Ubuntu no longer distributes chromium-browser outside of snap\n",
        "# Proposed solution: https://askubuntu.com/questions/1204571/how-to-install-chromium-without-snap\n",
        "# Add debian buster\n",
        "cat > /etc/apt/sources.list.d/debian.list <<'EOF'\n",
        "deb [arch=amd64 signed-by=/usr/share/keyrings/debian-buster.gpg] http://deb.debian.org/debian buster main\n",
        "deb [arch=amd64 signed-by=/usr/share/keyrings/debian-buster-updates.gpg] http://deb.debian.org/debian buster-updates main\n",
        "deb [arch=amd64 signed-by=/usr/share/keyrings/debian-security-buster.gpg] http://deb.debian.org/debian-security buster/updates main\n",
        "EOF\n",
        "\n",
        "# Add keys\n",
        "apt-key adv --keyserver keyserver.ubuntu.com --recv-keys DCC9EFBF77E11517\n",
        "apt-key adv --keyserver keyserver.ubuntu.com --recv-keys 648ACFD622F3D138\n",
        "apt-key adv --keyserver keyserver.ubuntu.com --recv-keys 112695A0E562B32A\n",
        "\n",
        "apt-key export 77E11517 | gpg --dearmour -o /usr/share/keyrings/debian-buster.gpg\n",
        "apt-key export 22F3D138 | gpg --dearmour -o /usr/share/keyrings/debian-buster-updates.gpg\n",
        "apt-key export E562B32A | gpg --dearmour -o /usr/share/keyrings/debian-security-buster.gpg\n",
        "\n",
        "# Prefer debian repo for chromium* packages only\n",
        "# Note the double-blank lines between entries\n",
        "cat > /etc/apt/preferences.d/chromium.pref << 'EOF'\n",
        "Package: *\n",
        "Pin: release a=eoan\n",
        "Pin-Priority: 500\n",
        "Package: *\n",
        "Pin: origin \"deb.debian.org\"\n",
        "Pin-Priority: 300\n",
        "Package: chromium*\n",
        "Pin: origin \"deb.debian.org\"\n",
        "Pin-Priority: 700\n",
        "EOF\n",
        "\n",
        "# Install chromium and chromium-driver\n",
        "apt-get update\n",
        "apt-get install chromium chromium-driver\n",
        "\n",
        "# Install selenium\n",
        "pip install selenium"
      ]
    },
    {
      "cell_type": "code",
      "source": [
        "from google.colab import drive\n",
        "drive.mount('/content/drive')"
      ],
      "metadata": {
        "colab": {
          "base_uri": "https://localhost:8080/"
        },
        "id": "HVcL7kKpicOB",
        "outputId": "9b017606-7750-4fdd-a0d8-21df42e68ec8"
      },
      "execution_count": null,
      "outputs": [
        {
          "output_type": "stream",
          "name": "stdout",
          "text": [
            "Drive already mounted at /content/drive; to attempt to forcibly remount, call drive.mount(\"/content/drive\", force_remount=True).\n"
          ]
        }
      ]
    },
    {
      "cell_type": "code",
      "execution_count": null,
      "metadata": {
        "id": "HzjT3KeMB7Bo"
      },
      "outputs": [],
      "source": [
        "from selenium import webdriver\n",
        "from selenium.webdriver.chrome.service import Service\n",
        "from selenium.webdriver.common.by import By\n",
        "import time\n",
        "from time import sleep\n",
        "from bs4 import BeautifulSoup\n",
        "import requests\n",
        "import re\n",
        "import os\n",
        "from selenium.webdriver.common.action_chains import ActionChains\n",
        "from tqdm import tqdm\n",
        "\n",
        "# Dataframe\n",
        "import pandas as pd\n",
        "\n",
        "# 2023.08.02 셀레니움 라이브러리 수정사항 반영\n",
        "# https://stackoverflow.com/questions/76428561/typeerror-webdriver-init-got-multiple-values-for-argument-options\n",
        "service = Service(executable_path=r'/usr/bin/chromedriver')\n",
        "options = webdriver.ChromeOptions()\n",
        "options.add_argument('--headless')\n",
        "options.add_argument('--no-sandbox')\n",
        "driver = webdriver.Chrome(service=service, options=options)"
      ]
    },
    {
      "cell_type": "markdown",
      "source": [
        "# 판결문 크롤링"
      ],
      "metadata": {
        "id": "l4TIN8ZAiAJ8"
      }
    },
    {
      "cell_type": "code",
      "source": [
        "service = Service(executable_path=r'/usr/bin/chromedriver')\n",
        "options = webdriver.ChromeOptions()\n",
        "options.add_argument('--headless')\n",
        "options.add_argument('--no-sandbox')\n",
        "prefs = {\"download.default_directory\" : \"/content/drive/MyDrive/Colab Notebooks/EWHA/[2023-2] 통학론/통학론 팀플/dataset/판결문pdf\",\n",
        "           \"download.prompt_for_download\": False,\n",
        "  \"download.directory_upgrade\": True,\n",
        "  \"safebrowsing.enabled\": True}\n",
        "options.add_experimental_option(\"prefs\",prefs)\n",
        "driver = webdriver.Chrome(service=service, options=options)\n",
        "\n",
        "url = \"https://www.scourt.go.kr/search/total/TotalSearch.work\"\n",
        "driver.get(url)"
      ],
      "metadata": {
        "id": "EO0tRfxajLWs"
      },
      "execution_count": null,
      "outputs": []
    },
    {
      "cell_type": "code",
      "execution_count": null,
      "metadata": {
        "id": "TCdAJznsBd7r"
      },
      "outputs": [],
      "source": [
        "# 지정한 CSS 선택자를 사용하여 요소 찾기\n",
        "btn_menu_all = driver.find_element(By.CSS_SELECTOR, \"#category > option:nth-child(7)\")\n",
        "#category\n",
        "#category > option:nth-child(7)\n",
        "btn_menu_all.click()\n",
        "\n",
        "#un = driver.find_element(By.CSS_SELECTOR, \"body > div:nth-child(2) > div.header > div.gnbOuter > div > div.allMenu > ul > li:nth-child(2) > ul > li:nth-child(1) > a\")\n",
        "#un.click()\n",
        "#살인과 관련된 pdf\n",
        "element=driver.find_element(By.ID, 'dpWord')\n",
        "element.send_keys(\"살인\")\n",
        "element.send_keys(\"\\n\")\n",
        "time.sleep(2)"
      ]
    },
    {
      "cell_type": "code",
      "source": [
        "import shutil"
      ],
      "metadata": {
        "id": "Jf-tK2NqtmKi"
      },
      "execution_count": null,
      "outputs": []
    },
    {
      "cell_type": "code",
      "source": [
        "file_number = 0\n",
        "for page in range(1, 210): # 1page~209page\n",
        "  if page ==1: pass\n",
        "  elif page % 5 == 1: num = driver.find_element(By.CLASS_NAME, \"prev2\").click()\n",
        "  else:\n",
        "    if page % 5 == 0: n = 7\n",
        "    else: n = page % 5 + 2\n",
        "    num = driver.find_element(By.CSS_SELECTOR, \"#tab7 > div.pagelist > a:nth-child({})\".format(n)).click()\n",
        "  for m in range(3,22,2):\n",
        "    dun = driver.find_element(By.CSS_SELECTOR, \"#tab7 > div:nth-child({}) > a:nth-child(3)\".format(m))\n",
        "    dun.click()\n",
        "    time.sleep(1)\n",
        "    # 가장 최근에 변경된 파일의 파일명 변경\n",
        "    new_file_name = max([download_path + \"\\\\\" + f for f in os.listdir(download_path)],key=os.path.getctime)\n",
        "    shutil.move(new_file_name,os.path.join(download_path, str(file_number)))\n",
        "\n",
        "\n",
        "filepath = 'c:\\\\downloads'\n",
        "filename = max([filepath + '\\\\' + f for f in os.listdir(filepath)], key=os.path.getctime)\n",
        "shutil.move(os.path.join(filepath, filename), new_filename)\n",
        "\n",
        "\n",
        "#1: #tab7 > div.pagelist > a.selected\n",
        "#4: #tab7 > div.pagelist > a:nth-child(6)\n",
        "#5: tab7 > div.pagelist > a:nth-child(7)\n",
        "#6: #tab7 > div.pagelist > a.prev2\n",
        "\n",
        "#7: #tab7 > div.pagelist > a:nth-child(4)\n",
        "# 9: #tab7 > div.pagelist > a:nth-child(6)\n"
      ],
      "metadata": {
        "colab": {
          "base_uri": "https://localhost:8080/",
          "height": 261
        },
        "id": "6qjLkBY6kMEF",
        "outputId": "6a9236b6-b3a3-4abc-dd75-5d7681544257"
      },
      "execution_count": null,
      "outputs": [
        {
          "output_type": "error",
          "ename": "KeyboardInterrupt",
          "evalue": "ignored",
          "traceback": [
            "\u001b[0;31m---------------------------------------------------------------------------\u001b[0m",
            "\u001b[0;31mKeyboardInterrupt\u001b[0m                         Traceback (most recent call last)",
            "\u001b[0;32m<ipython-input-10-2a932e6eecd6>\u001b[0m in \u001b[0;36m<cell line: 1>\u001b[0;34m()\u001b[0m\n\u001b[1;32m      9\u001b[0m     \u001b[0mdun\u001b[0m \u001b[0;34m=\u001b[0m \u001b[0mdriver\u001b[0m\u001b[0;34m.\u001b[0m\u001b[0mfind_element\u001b[0m\u001b[0;34m(\u001b[0m\u001b[0mBy\u001b[0m\u001b[0;34m.\u001b[0m\u001b[0mCSS_SELECTOR\u001b[0m\u001b[0;34m,\u001b[0m \u001b[0;34m\"#tab7 > div:nth-child({}) > a:nth-child(3)\"\u001b[0m\u001b[0;34m.\u001b[0m\u001b[0mformat\u001b[0m\u001b[0;34m(\u001b[0m\u001b[0mm\u001b[0m\u001b[0;34m)\u001b[0m\u001b[0;34m)\u001b[0m\u001b[0;34m\u001b[0m\u001b[0;34m\u001b[0m\u001b[0m\n\u001b[1;32m     10\u001b[0m     \u001b[0mdun\u001b[0m\u001b[0;34m.\u001b[0m\u001b[0mclick\u001b[0m\u001b[0;34m(\u001b[0m\u001b[0;34m)\u001b[0m\u001b[0;34m\u001b[0m\u001b[0;34m\u001b[0m\u001b[0m\n\u001b[0;32m---> 11\u001b[0;31m     \u001b[0mtime\u001b[0m\u001b[0;34m.\u001b[0m\u001b[0msleep\u001b[0m\u001b[0;34m(\u001b[0m\u001b[0;36m2\u001b[0m\u001b[0;34m)\u001b[0m\u001b[0;34m\u001b[0m\u001b[0;34m\u001b[0m\u001b[0m\n\u001b[0m\u001b[1;32m     12\u001b[0m \u001b[0;34m\u001b[0m\u001b[0m\n\u001b[1;32m     13\u001b[0m \u001b[0;31m#1: #tab7 > div.pagelist > a.selected\u001b[0m\u001b[0;34m\u001b[0m\u001b[0;34m\u001b[0m\u001b[0m\n",
            "\u001b[0;31mKeyboardInterrupt\u001b[0m: "
          ]
        }
      ]
    },
    {
      "cell_type": "code",
      "source": [
        "pdf_folder_path = \"/content/drive/MyDrive/Colab Notebooks/EWHA/[2023-2] 통학론/통학론 팀플/dataset/판결문pdf\"\n",
        "pdf_filename_list = os.listdir(pdf_folder_path)"
      ],
      "metadata": {
        "id": "UIInLSW7rXWw"
      },
      "execution_count": null,
      "outputs": []
    },
    {
      "cell_type": "markdown",
      "source": [],
      "metadata": {
        "id": "tDIB_lrFkWce"
      }
    },
    {
      "cell_type": "markdown",
      "source": [
        "# xlsx 변환"
      ],
      "metadata": {
        "id": "lOIqa0LShljj"
      }
    },
    {
      "cell_type": "code",
      "execution_count": null,
      "metadata": {
        "id": "sVggGVMQB_jb"
      },
      "outputs": [],
      "source": [
        "import os\n",
        "from PyPDF2 import PdfReader\n",
        "import pandas as pd\n",
        "\n",
        "# PDF 파일이 있는 디렉토리 경로를 지정합니다.\n",
        "pdf_directory = r'C:\\Users\\yeo05\\Desktop\\pdfpan'\n",
        "\n",
        "# Excel 파일로 저장할 경로를 지정합니다.\n",
        "excel_file_path = '판결내용_1.xlsx'\n",
        "\n",
        "# PDF 디렉토리의 모든 파일을 확인합니다.\n",
        "all_data = []  # 모든 PDF 파일의 데이터를 저장할 리스트\n",
        "\n",
        "for filename in os.listdir(pdf_directory):\n",
        "    if filename.endswith('.pdf'):\n",
        "        pdf_file_path = os.path.join(pdf_directory, filename)\n",
        "\n",
        "        # PDF 파일 열기\n",
        "        pdf_reader = PdfReader(pdf_file_path)\n",
        "\n",
        "        # 각 페이지의 텍스트를 추출하여 리스트에 추가합니다.\n",
        "        pdf_data = []\n",
        "        for page in pdf_reader.pages:\n",
        "            page_text = page.extract_text()\n",
        "            pdf_data.append(page_text)\n",
        "\n",
        "        # 파일 이름과 데이터를 튜플로 묶어 리스트에 추가합니다.\n",
        "        all_data.append((filename, \"\\n\\n\".join(pdf_data)))\n",
        "\n",
        "# 데이터를 DataFrame으로 변환합니다.\n",
        "df = pd.DataFrame(all_data, columns=[\"판결문\", \"내용\"])\n",
        "\n",
        "# DataFrame을 Excel 파일로 저장합니다.\n",
        "df.to_excel(excel_file_path, index=False, engine='openpyxl')\n",
        "\n",
        "print(f\"모든 PDF 파일의 텍스트를 '{excel_file_path}' 파일에 Excel 형식으로 저장했습니다.\")\n",
        "\n"
      ]
    }
  ],
  "metadata": {
    "colab": {
      "provenance": [],
      "collapsed_sections": [
        "6LkCtZlth4fd"
      ],
      "include_colab_link": true
    },
    "kernelspec": {
      "display_name": "Python 3",
      "name": "python3"
    },
    "language_info": {
      "name": "python"
    }
  },
  "nbformat": 4,
  "nbformat_minor": 0
}