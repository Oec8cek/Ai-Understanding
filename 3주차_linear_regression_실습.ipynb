{
  "cells": [
    {
      "cell_type": "markdown",
      "metadata": {
        "id": "view-in-github",
        "colab_type": "text"
      },
      "source": [
        "<a href=\"https://colab.research.google.com/github/Oec8cek/Ai-Understanding/blob/main/3%EC%A3%BC%EC%B0%A8_linear_regression_%EC%8B%A4%EC%8A%B5.ipynb\" target=\"_parent\"><img src=\"https://colab.research.google.com/assets/colab-badge.svg\" alt=\"Open In Colab\"/></a>"
      ]
    },
    {
      "cell_type": "code",
      "execution_count": 2,
      "metadata": {
        "colab": {
          "base_uri": "https://localhost:8080/"
        },
        "id": "swnfIjQA3OLi",
        "outputId": "e0aff6f8-3b8f-4d32-c0a1-e8b8857b845a"
      },
      "outputs": [
        {
          "output_type": "stream",
          "name": "stdout",
          "text": [
            "[Errno 2] No such file or directory: '/content/ML-01-Linear_Regression'\n",
            "/content\n"
          ]
        }
      ],
      "source": [
        "#코랩 탭의 파일구조 내에서 위에서 복제한 실습 자료가 있는 폴더로 이동한다.\n",
        "%cd /content/ML-01-Linear_Regression"
      ]
    },
    {
      "cell_type": "markdown",
      "metadata": {
        "id": "CLmS9bD_p3gV"
      },
      "source": [
        "# 단순 선형 회귀 (Simple linear regression) (실습)\n",
        "\n",
        "### [1] 실습 진행 관련 설명\n",
        "선형 회귀에 대한 실습을 진행하고자 한다. 실습은 크게 두가지로 구성되어 있다.\n",
        "\n",
        "- sklearn 라이브러리를 이용한 방법\n",
        "- 직접 함수를 구현하는 방법\n",
        "\n",
        "처음에는 sklearn 라이브러리를 이용한 방법을 실습하고 그 이후에 직접 함수를 구현하여 실습을 진행한다."
      ]
    },
    {
      "cell_type": "markdown",
      "metadata": {
        "id": "YBJH39wWqm0T"
      },
      "source": [
        "## [2] 코드 구현의 흐름\n",
        "\n",
        "\n",
        "- (1) (데이터 측면) 데이터 불러오기\n",
        "\n",
        "- (2) (데이터 측면) 데이터에서 훈련데이터와 테스트 데이터로 구분하기\n",
        "\n",
        "- (3) (모델 측면) sklearn 라이브러리를 이용하여 선형 회귀 모델 불러오기. 또는 직접 함수 구현하기 (선형회귀 모델 정의).\n",
        "\n",
        "- (4) (학습 과정) sklearn 라이브러리를 이용하여 모델 학습하기. 또는 직접 구현하기 (경사하강법).\n",
        "\n",
        "- (5) (성능 평가) 테스트 데이터를 이용하여 학습된 모델에 대한 성능 평가하기. (Mean Squared Error)"
      ]
    },
    {
      "cell_type": "markdown",
      "metadata": {
        "id": "Fofx1AL8zEvw"
      },
      "source": [
        "## (첫번째 실습) sklearn 라이브러리를 이용한 방법\n",
        "\n",
        "\n"
      ]
    },
    {
      "cell_type": "markdown",
      "metadata": {
        "id": "SJ9u0x1Bb77F"
      },
      "source": [
        "(참고) pandas, matplotlib, sklearn\n",
        "\n",
        "이번 실습에서는 numpy외에 pandas, matplotlib, sklearn과 같은 라이브러리가 활용되고 있다. pandas는 행과 열로 구성된 2차원 데이터 처리 기능을 제공하는 라이브러리로 혼자공부하는 머신러닝+딥러닝 교재의 152페이지에 간단한 설명이 제공된다. matplotlib는 그래프등을 통해 데이터를 가시화하는 목적으로 사용되는 라이브러리이다. sklearn 라이브러리는 이번 학기 수업 과정에서 집중적으로 사용될 중요한 라이브러리로 각종 기계학습 모델이 구현되어 있다.\n",
        "\n",
        "matplotlib와 sklearn은 해당 기능이 소개될때마다 사용법을 학습하도록 하고, pandas를 간단하게 소개하자.\n",
        "\n",
        "1) Pandas에서는 data frame이라는 객체에 행과 열로 구성된 데이터를 저장한다. 학습하고자 하는 데이터는 현재 csv 포맷으로 저장되어 있는데 read_csv라는 함수로 데이터를 읽어들일 수 있다.\n",
        "\n",
        "2) pandas의 데이터프레임에서는 컬럼에 부여된 이름을 이용하여 데이터에 접근할 수 있다(참고 : \"print(dataset.describe())\" 명령을 실행하면 컬럼에 부여된 이름을 확인할 수 있다).실습용 데이터에는 'YearsExperience'와 'Salary'라는 이름이 부여된 컬럼이 존재하는데 \"print(dataset['YearsExperience'])\"를 실행하면 'YearsExperience'라는 이름의 컬럼 데이터를 확인할 수 있다.\n",
        "\n",
        "3) pandas에서는 ndarray처럼 []를 이용하여 데이터에 접근한다. pandas만의 인덱싱 방법은 \"iloc[]\"연산자과 'loc[]'연산인데, \"iloc[]\"은 아래 코드셀의 코드처럼 행과 열의 숫자값을 지정하여 인덱싱을 수행한다.'loc[]'은 동작이 약간 다른데, 행 위치에는 인덱스 값을, 열의 위치에는 열의 이름을 입력하여 인덱싱할 수 있다(예: \"dataset.loc[1:3, 'YearsExperience']\")  "
      ]
    },
    {
      "cell_type": "markdown",
      "metadata": {
        "id": "KVz-jS2_gpaC"
      },
      "source": [
        "**훈련 데이터와 테스트 데이터**\n",
        "\n",
        "이제까지 강의에서는 학습 데이터라는 존재만을 설명하였다. 예를 들어 선형회귀의 경우 학습 데이터를 활용하여 모델의 인자를 탐색하였다. 그런데, 학습된 모델의 성능을 검증할 때는 어떻게 할까? 이 때는 모델의 학습 과정에서 사용하지 않은 데이터를 이용하여 모델의 예측값을 산출한 후 참값과 비교할 수 있다. \"train_test_split\"은 학습 데이터를 모델의 학습을 위한 \"훈련 데이터\"와 학습된 모델의 성능 확인을 위한 \"테스트 데이터\"로 분할하는 동작을 한다. 훈련 데이터와 테스트 데이터를 구성/분할할 때는 훈련 데이터와 테스트 데이터에 중복되는 개체가 존재하지 않도록 주의할 필요가 있다."
      ]
    },
    {
      "cell_type": "markdown",
      "metadata": {
        "id": "SxpQeYl3hmwI"
      },
      "source": [
        "**fit과 predict**\n",
        "\n",
        "from sklearn.linear_model import LinearRegression\n",
        "\n",
        "regressor = LinearRegression()\n",
        "\n",
        "regressor.fit(X_train, y_train)\n",
        "\n",
        "상기 코드에서는 (1)  sklearn의 linear_model 패키지에서 \"LinearRegression\" 모델을 임포트한 후(from sklearn.linear_model import LinearRegression) (2) 우리가 사용할 LinearRegression() 모델의 개체를 생성한다(regressor = LinearRegression()) (3) 그리고 linear regression 모델을 학습시킨다(regressor.fit(X_train, y_train)).\n",
        "\n",
        "Python의 sklearn 라이브러리는 인터페이스가 표준화가 잘 되어 있어 모델 학습 과정은 \"fit()\"이라는 함수로 표현되고, 학습된 모델을 이용하여 회귀 값을 예측하고자 할 때는 \"predict()\" 함수를 사용한다.\n",
        "\n",
        "\"regressor.fit(X_train, y_train)\"라는 명령은 \"X_train\"에 저장된 특징 벡터 집합과 \"y_train\"에 저장된 참 값 집합을 이용하여 선형 회귀 모델을 학습하라는 내용을 담고 있다."
      ]
    },
    {
      "cell_type": "code",
      "execution_count": 4,
      "metadata": {
        "colab": {
          "base_uri": "https://localhost:8080/"
        },
        "id": "qJpRs4Dxng7_",
        "outputId": "77696ff5-710a-4b08-c807-be41ac53a5d6"
      },
      "outputs": [
        {
          "output_type": "stream",
          "name": "stdout",
          "text": [
            "[1.45730105e-04 9.99999979e-01]\n",
            "0.0006898075807839632\n",
            "(2,)\n",
            "(2,)\n",
            "0.9999999999999928\n"
          ]
        }
      ],
      "source": [
        "# 단순 선형 회귀(Simple Linear Regression)\n",
        "\n",
        "# 라이브러리 불러오기 (Importing the libraries)\n",
        "import numpy as np\n",
        "import matplotlib.pyplot as plt\n",
        "import pandas as pd\n",
        "from sklearn.metrics import mean_squared_error\n",
        "\n",
        "\n",
        "# (1) (데이터 측면) 데이터 불러오기 (Importing the datas)\n",
        "dataset = pd.read_csv('/content/sample_data.csv')  #파일 시스템을 통해 CSV 파일 구조를 확인해보자.\n",
        "X = dataset.iloc[:, :-1].values           #iloc 함수를 통해서 CSV 파일 데이터를 변수에 저장해준다.\n",
        "y = dataset.iloc[:, 1].values\n",
        "\n",
        "# (2) (데이터 측면) 훈련 데이터셋과 테스트 데이터셋을 구분하기 (Splitting the dataset into the Training set and Test set)\n",
        "from sklearn.model_selection import train_test_split\n",
        "#X(특징벡터)와 Y(정답값)을 훈련데이터셋과 테스트데이터셋으로 분할\n",
        "#아래 파라미터(test_size)를 통해서 비율을 설정해줄 수 있다.\n",
        "X_train, X_test, y_train, y_test = train_test_split(X, y, test_size = 1/3, random_state = 0)\n",
        "\n",
        "# 참고 (Feature Scaling) -> 필요시 강의\n",
        "# 데이터의 따라서 Scaling을 필요로하는 경우도 있다.\n",
        "\"\"\"from sklearn.preprocessing import StandardScaler\n",
        "sc_X = StandardScaler()\n",
        "X_train = sc_X.fit_transform(X_train)\n",
        "X_test = sc_X.transform(X_test)\n",
        "sc_y = StandardScaler()\n",
        "y_train = sc_y.fit_transform(y_train)\"\"\"\n",
        "\n",
        "# (3) (모델 측면) 선형 회귀 모델 불러오기\n",
        "from sklearn.linear_model import LinearRegression\n",
        "regressor = LinearRegression()\n",
        "\n",
        "# (4) (학습 과정) 모델 학습 하기\n",
        "# 해당 함수 fit 내부에 기존 이론으로 학습했던 1) 가중치 초기화 2) 손실함수 계산 3) 가중치 업데이트 등의 작업이 구현되어 있다.\n",
        "# 학습과정에서는 Train 데이터만! 사용된다.\n",
        "regressor.fit(X_train, y_train)\n",
        "\n",
        "print(regressor.coef_)      #기울기 (단순 선형 회귀의 W_1의 개념)\n",
        "print(regressor.intercept_) #절편   (단순 선현 회귀의 W_0의 개념)\n",
        "\n",
        "# (5) (성능 평가) 학습된 모델을 대상으로 테스트 데이터로 평가하기. (Predicting the Test set results)\n",
        "# 성능평가 과정에서는 Test 데이터만! 사용된다.\n",
        "y_pred = regressor.predict(X_test)\n",
        "\n",
        "print(y_test.shape)\n",
        "print(y_pred.shape)\n",
        "\n",
        "from sklearn.metrics import r2_score\n",
        "#R2 Score 라는 평가지표를 통해서 학습이 잘 되었는지 확인해보자.\n",
        "result = r2_score(y_test, y_pred)\n",
        "\n",
        "print(result)"
      ]
    },
    {
      "cell_type": "markdown",
      "metadata": {
        "id": "jnhHmF2tbBKb"
      },
      "source": [
        "![R2score.PNG](data:image/png;base64,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)"
      ]
    },
    {
      "cell_type": "markdown",
      "metadata": {
        "id": "t9b-2YkltLPO"
      },
      "source": [
        "## 추가 설명 - 그래프 그리기 (matplotlib)\n",
        "### (1) plt.scatter(x축에 반영될 데이터, y축에 반영될 실제값)\n",
        "- 훈련 데이터셋 또는 테스트 데이터셋이 {($x_1$, $y_1$), ($x_2$, $y_2$), ...($x_i$, $y_i$), ...($x_N$, $y_N$)} 구성되어 있을 때, 그래프 상에 한 점들로 표현이 가능함.\n",
        "\n",
        "### (2) plt.plot(x축에 반영될 데이터, y축에 반영될 예측값)\n",
        "- 통상 그래프 형식으로 표현함.\n",
        "- plt.plot(x, f(x)) 꼴이 많이 쓰임. x는 입력값이고 f(x)는 x에 대한 출력값(또는 예측값).\n"
      ]
    },
    {
      "cell_type": "markdown",
      "metadata": {
        "id": "sEoSuax6ix5x"
      },
      "source": [
        "데이터나 모델의 동작을 가시화하면 직관적으로 특징을 파악하기 쉽다. matplotlib에는 가시화에 필요한 다양한 그래프들이 포함되어 있어 가시화에 도움이 된다."
      ]
    },
    {
      "cell_type": "code",
      "execution_count": null,
      "metadata": {
        "colab": {
          "base_uri": "https://localhost:8080/",
          "height": 313
        },
        "id": "8gMYOugfvBrR",
        "outputId": "95baecc9-096c-4e48-f569-f998ca698eec"
      },
      "outputs": [
        {
          "data": {
            "text/plain": [
              "Text(0, 0.5, 'Salary')"
            ]
          },
          "execution_count": 4,
          "metadata": {},
          "output_type": "execute_result"
        },
        {
          "data": {
            "image/png": "[encoded data removed]",
            "text/plain": [
              "<Figure size 432x288 with 1 Axes>"
            ]
          },
          "metadata": {
            "needs_background": "light"
          },
          "output_type": "display_data"
        }
      ],
      "source": [
        "# 훈련 데이터셋에 대한 시각화 (빨간색)\n",
        "plt.scatter(X_train, y_train, color = 'red')\n",
        "# plot으로 기본적으로 그래프를 그림\n",
        "plt.plot(X_train, regressor.predict(X_train), color = 'blue')\n",
        "plt.title('Salary vs Experience (Train set)')\n",
        "plt.xlabel('Years of Experience')\n",
        "plt.ylabel('Salary')"
      ]
    },
    {
      "cell_type": "code",
      "execution_count": null,
      "metadata": {
        "colab": {
          "base_uri": "https://localhost:8080/",
          "height": 295
        },
        "id": "LvDkZm1xxcCf",
        "outputId": "5ad471c3-53c3-4fae-e7fc-40e6ec716fcc"
      },
      "outputs": [
        {
          "data": {
            "image/png": "[encoded data removed]",
            "text/plain": [
              "<Figure size 432x288 with 1 Axes>"
            ]
          },
          "metadata": {
            "needs_background": "light"
          },
          "output_type": "display_data"
        }
      ],
      "source": [
        "# 테스트 데이터셋에 대한 시각화 (파란색)\n",
        "plt.scatter(X_test, y_test, color = 'blue')\n",
        "plt.plot(X_test, regressor.predict(X_test), color = 'red')\n",
        "plt.title('Salary vs Experience (Test set)')\n",
        "plt.xlabel('Years of Experience')\n",
        "plt.ylabel('Salary')\n",
        "plt.show()"
      ]
    },
    {
      "cell_type": "markdown",
      "metadata": {
        "id": "7yCywpB26eww"
      },
      "source": [
        "## (두번째 실습) 직접구현\n"
      ]
    },
    {
      "cell_type": "code",
      "execution_count": null,
      "metadata": {
        "colab": {
          "base_uri": "https://localhost:8080/"
        },
        "id": "O06DVJUWpWx-",
        "outputId": "a1627471-5eeb-457e-b22f-195daf50ef84"
      },
      "outputs": [
        {
          "name": "stdout",
          "output_type": "stream",
          "text": [
            "10 10\n",
            "[9493.13629957] [24681.57417843]\n",
            "0.9784483372537969\n",
            "0.9784483372537969\n"
          ]
        }
      ],
      "source": [
        "import numpy as np\n",
        "import matplotlib.pyplot as plt\n",
        "import torch\n",
        "\n",
        "\n",
        "# 라이브러리 불러오기 (Importing the libraries)\n",
        "import numpy as np\n",
        "import matplotlib.pyplot as plt\n",
        "import pandas as pd\n",
        "\n",
        "# (1) (데이터 측면) 데이터 불러오기 (Importing the datas)\n",
        "# 위의 Sklearn 라이브러리와 동일\n",
        "dataset = pd.read_csv('Salary_Data.csv')\n",
        "X = dataset.iloc[:, :-1].values\n",
        "y = dataset.iloc[:, 1].values\n",
        "\n",
        "#print(X)\n",
        "#print(y)\n",
        "\n",
        "# (2) (데이터 측면) 훈련 데이터셋과 테스트 데이터셋을 구분하기 (Splitting the dataset into the Training set and Test set)\n",
        "# 위의 Sklearn 라이브러리와 동일\n",
        "from sklearn.model_selection import train_test_split\n",
        "X_train, X_test, y_train, y_test = train_test_split(X, y, test_size = 1/3, random_state = 0)\n",
        "\n",
        "\n",
        "# SKlearn에서의 (3)번과 (4)번 과정과 동일함에 유의\n",
        "# (3) (모델 측면) 선형 회귀 모델 정의\n",
        "\n",
        "# 모델의 파라미터 w (매개변수) 초기값 설정 + 하이퍼 파라미터 선정(학습률)\n",
        "# 가중치의 값을 초기화(임의의 값으로 설정하는 방법 사용)\n",
        "w1 = 10\n",
        "w0 = 10\n",
        "lr = 0.0025\t#학습률(learning rate, lr, 일반적인 경우 0 < lr < 1)\n",
        "\n",
        "#모델 정의\n",
        "#단순 선형회귀 모델의 형태는?  f(x) = w0 + w1x\n",
        "def forward(x):\n",
        "\treturn w1 * x + w0\n",
        "\n",
        "\n",
        "# # (4) (학습 과정) 모델 학습 하기 : 손실함수 정의, 경사하강법 정의, 정해진 반복수에 맞게 모델의 파라미터 업데이트\n",
        "# 4-1 손실함수 정의하기\n",
        "\n",
        "#손실함수 정의\n",
        "#MSE의 식을 잘 생각해볼것! 1/N은 어디로??\n",
        "def loss_fn(y_pred, y):\n",
        "  return (y_pred - y) * (y_pred - y)  # (예측값 - 정답값)^2\n",
        " \t# return np.powery_pred - y, 2)\n",
        "\n",
        "# 4-2 경사하강법 정의하기 ***\n",
        "# 가중치 업데이트식을 떠올려보기\n",
        "# gradient 부분이 아래처럼 어떻게 정의되는지 유도해보자.\n",
        "def update(x, y, y_pred):\n",
        "\tglobal w1, w0\n",
        "\tw1 = w1 - lr * 2 * x * (y_pred - y)\n",
        "\tw0 = w0 - lr * 2 * 1 * (y_pred - y)\n",
        "print(w1, w0)\n",
        "\n",
        "# 4-3 정해진 반복수(100회) 마다 모델의 파라미터 업데이트\n",
        "\n",
        "for epoch in range(100):\n",
        "\tfor x_val, y_val in zip(X_train, y_train):\t#zip을 사용하면 동일 인덱스에 있는 값을 함께 가져온다.\n",
        "\t\ty_pred = forward(x_val)   # [2] 모델의 예측값\n",
        "\t\tloss = loss_fn(y_pred, y_val)  # [3] 손실 계산\n",
        "\t\tupdate(x_val, y_val, y_pred)    # [4] 손실값을 통한 경사하강법으로 w1, w0 업데이트\n",
        "\t\t# print(loss)\n",
        "\n",
        "\n",
        "print(w1, w0) # find w, b\n",
        "\n",
        "# (5) (성능 평가) 학습된 모델을 대상으로 테스트 데이터로 평가하기. (Predicting the Test set results)\n",
        "# 기존 sklearn 에서 predict 하던 부분을 직접 구현\n",
        "# 우리가 구한 w0과 w1을 통해 예측값을 산출해보자.\n",
        "predict =[(w1[0] * x[0] + w0[0]) for x in X_test]\n",
        "#R2 Score 관련 수식을 참고해보자.\n",
        "u = np.sum((predict-y_test)**2)\n",
        "v = np.sum((y_test-np.average(y_test))**2)\n",
        "\n",
        "result = 1-u/v\n",
        "print(result)\n",
        "\n",
        "from sklearn.metrics import r2_score\n",
        "\n",
        "result = r2_score(y_test, predict)\n",
        "\n",
        "\n",
        "print(result)\n"
      ]
    },
    {
      "cell_type": "code",
      "execution_count": null,
      "metadata": {
        "colab": {
          "base_uri": "https://localhost:8080/",
          "height": 295
        },
        "id": "PRuZj10g4Oz_",
        "outputId": "fdc7db98-ee6a-4d88-96ff-68affd3b8593"
      },
      "outputs": [
        {
          "data": {
            "image/png": "[encoded data removed]",
            "text/plain": [
              "<Figure size 432x288 with 1 Axes>"
            ]
          },
          "metadata": {
            "needs_background": "light"
          },
          "output_type": "display_data"
        }
      ],
      "source": [
        "# 참고 - 시각화\n",
        "# 내가 구현한 값과 라이브러를 통해 구현한 값의 차이를 확인해보자\n",
        "# 훈련 데이터셋에 대한 시각화 (빨간색)\n",
        "plt.scatter(X_train, y_train, color = 'red')\n",
        "plt.plot(X_train, [(w1 * x + w0) for x in X_train], color = 'blue')\n",
        "plt.title('Salary vs Experience (Train set)')\n",
        "plt.xlabel('Years of Experience')\n",
        "plt.ylabel('Salary')\n",
        "plt.show()"
      ]
    },
    {
      "cell_type": "code",
      "execution_count": null,
      "metadata": {
        "colab": {
          "base_uri": "https://localhost:8080/",
          "height": 295
        },
        "id": "Nh4z8JBJ2pFv",
        "outputId": "8a1a8079-b56b-470a-deaa-22d29f955d7a"
      },
      "outputs": [
        {
          "data": {
            "image/png": "[encoded data removed]",
            "text/plain": [
              "<Figure size 432x288 with 1 Axes>"
            ]
          },
          "metadata": {
            "needs_background": "light"
          },
          "output_type": "display_data"
        }
      ],
      "source": [
        "# 테스트 데이터셋에 대한 시각화 (파란색)\n",
        "plt.scatter(X_test, y_test, color = 'blue')\n",
        "plt.plot(X_test, [(w1 * x + w0) for x in X_test], color = 'red')\n",
        "plt.title('Salary vs Experience (Test set)')\n",
        "plt.xlabel('Years of Experience')\n",
        "plt.ylabel('Salary')\n",
        "plt.show()"
      ]
    }
  ],
  "metadata": {
    "colab": {
      "provenance": [],
      "include_colab_link": true
    },
    "kernelspec": {
      "display_name": "Python 3",
      "name": "python3"
    },
    "language_info": {
      "name": "python"
    }
  },
  "nbformat": 4,
  "nbformat_minor": 0
}