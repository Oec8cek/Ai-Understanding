{
 "cells": [
  {
   "cell_type": "code",
   "execution_count": 1,
   "id": "e1eca2ba",
   "metadata": {},
   "outputs": [],
   "source": [
    "import nltk\n",
    "from nltk.corpus import *"
   ]
  },
  {
   "cell_type": "code",
   "execution_count": 2,
   "id": "c875f8ed",
   "metadata": {},
   "outputs": [
    {
     "name": "stdout",
     "output_type": "stream",
     "text": [
      "showing info https://raw.githubusercontent.com/nltk/nltk_data/gh-pages/index.xml\n"
     ]
    },
    {
     "data": {
      "text/plain": [
       "True"
      ]
     },
     "execution_count": 2,
     "metadata": {},
     "output_type": "execute_result"
    }
   ],
   "source": [
    "nltk.download()"
   ]
  },
  {
   "cell_type": "markdown",
   "id": "ce27f0f3",
   "metadata": {},
   "source": [
    "# 1.1 Gender Identification\n",
    "\n",
    "In 4 we saw that male and female names have some distinctive characteristics. Names ending in a, e and i are likely to be female, while names ending in k, o, r, s and t are likely to be male. Let's build a classifier to model these differences more precisely."
   ]
  },
  {
   "cell_type": "code",
   "execution_count": 3,
   "id": "a210c670",
   "metadata": {},
   "outputs": [
    {
     "name": "stdout",
     "output_type": "stream",
     "text": [
      "Gender Classification: 0.752\n"
     ]
    }
   ],
   "source": [
    "from nltk.corpus import *\n",
    "import random\n",
    "labeled_names = ([(name, 'male') for name in names.words('male.txt')] +\n",
    "                 [(name, 'female') for name in names.words('female.txt')])\n",
    "random.shuffle(labeled_names)\n",
    "def gender_features(word):\n",
    "        return {'last_letter': word[-1]}\n",
    "featuresets = [(gender_features(n), gender) for (n, gender) in labeled_names]\n",
    "tran_set, test_set = featuresets[500:], featuresets[:500]\n",
    "train_set, test_set = featuresets[500:], featuresets[:500]\n",
    "classifier = nltk.NaiveBayesClassifier.train(train_set)\n",
    "print(\"Gender Classification:\", nltk.classify.accuracy(classifier, test_set))"
   ]
  },
  {
   "cell_type": "markdown",
   "id": "7697427b",
   "metadata": {},
   "source": [
    "# 1.2 Choosing The Right Features\n",
    "\n",
    "Selecting relevant features and deciding how to encode them for a learning method can have an enormous impact on the learning method's ability to extract a good model. Much of the interesting work in building a classifier is deciding what features might be relevant, and how we can represent them. Although it's often possible to get decent performance by using a fairly simple and obvious set of features, there are usually significant gains to be had by using carefully constructed features based on a thorough understanding of the task at hand.\n",
    "\n",
    "Typically, feature extractors are built through a process of trial-and-error, guided by intuitions about what information is relevant to the problem. It's common to start with a \"kitchen sink\" approach, including all the features that you can think of, and then checking to see which features actually are helpful. We take this approach for name gender features in 1.2."
   ]
  },
  {
   "cell_type": "code",
   "execution_count": 16,
   "id": "2b54191d",
   "metadata": {},
   "outputs": [
    {
     "name": "stdout",
     "output_type": "stream",
     "text": [
      "0.748\n"
     ]
    }
   ],
   "source": [
    "def gender_features2(name):\n",
    "    features = {}\n",
    "    features[\"first_letter\"] = name[0].lower()\n",
    "    features[\"last_letter\"] = name[-1].lower()\n",
    "    for letter in 'abcdefghijklmnopqrstuvwxyz':\n",
    "        features[\"count({})\".format(letter)] = name.lower().count(letter)\n",
    "        features[\"has({})\".format(letter)] = (letter in name.lower())\n",
    "    return features\n",
    "featuresets = [(gender_features2(n), gender) for (n, gender) in labeled_names]\n",
    "train_set, test_set = featuresets[500:], featuresets[:500]\n",
    "classifier = nltk.NaiveBayesClassifier.train(train_set)\n",
    "print(nltk.classify.accuracy(classifier, test_set))"
   ]
  },
  {
   "cell_type": "markdown",
   "id": "ee9a431d",
   "metadata": {},
   "source": [
    "Once an initial set of features has been chosen, a very productive method for refining the feature set is error analysis. First, we select a development set, containing the corpus data for creating the model. This development set is then subdivided into the training set and the dev-test set."
   ]
  },
  {
   "cell_type": "code",
   "execution_count": 5,
   "id": "5ac25ad1",
   "metadata": {},
   "outputs": [],
   "source": [
    "train_names = labeled_names[1500:]\n",
    "devtest_names = labeled_names[500:1500]\n",
    "test_names = labeled_names[:500]"
   ]
  },
  {
   "cell_type": "code",
   "execution_count": 6,
   "id": "b10d3fef",
   "metadata": {},
   "outputs": [
    {
     "name": "stdout",
     "output_type": "stream",
     "text": [
      "0.745\n"
     ]
    }
   ],
   "source": [
    "train_set = [(gender_features(n), gender) for (n, gender) in train_names]\n",
    "devtest_set = [(gender_features(n), gender) for (n, gender) in devtest_names]\n",
    "test_set = [(gender_features(n), gender) for (n, gender) in test_names]\n",
    "classifier = nltk.NaiveBayesClassifier.train(train_set)\n",
    "print(nltk.classify.accuracy(classifier, devtest_set))"
   ]
  },
  {
   "cell_type": "code",
   "execution_count": 7,
   "id": "3989c418",
   "metadata": {},
   "outputs": [
    {
     "name": "stdout",
     "output_type": "stream",
     "text": [
      "correct=female   guess=male     name=Abigail                       \n",
      "correct=female   guess=male     name=Adriaens                      \n",
      "correct=female   guess=male     name=Allyn                         \n",
      "correct=female   guess=male     name=Anabel                        \n",
      "correct=female   guess=male     name=Ann                           \n",
      "correct=female   guess=male     name=Annabel                       \n",
      "correct=female   guess=male     name=April                         \n",
      "correct=female   guess=male     name=Arlyn                         \n",
      "correct=female   guess=male     name=Ayn                           \n",
      "correct=female   guess=male     name=Bab                           \n",
      "correct=female   guess=male     name=Barb                          \n",
      "correct=female   guess=male     name=Brenn                         \n",
      "correct=female   guess=male     name=Brett                         \n",
      "correct=female   guess=male     name=Calypso                       \n",
      "correct=female   guess=male     name=Carolann                      \n",
      "correct=female   guess=male     name=Cat                           \n",
      "correct=female   guess=male     name=Charil                        \n",
      "correct=female   guess=male     name=Charmain                      \n",
      "correct=female   guess=male     name=Charyl                        \n",
      "correct=female   guess=male     name=Chriss                        \n",
      "correct=female   guess=male     name=Chrysler                      \n",
      "correct=female   guess=male     name=Clio                          \n",
      "correct=female   guess=male     name=Clo                           \n",
      "correct=female   guess=male     name=Corabel                       \n",
      "correct=female   guess=male     name=Coreen                        \n",
      "correct=female   guess=male     name=Cybel                         \n",
      "correct=female   guess=male     name=Daloris                       \n",
      "correct=female   guess=male     name=Dareen                        \n",
      "correct=female   guess=male     name=Deeann                        \n",
      "correct=female   guess=male     name=Devon                         \n",
      "correct=female   guess=male     name=Doralin                       \n",
      "correct=female   guess=male     name=Drew                          \n",
      "correct=female   guess=male     name=Elinor                        \n",
      "correct=female   guess=male     name=Elyn                          \n",
      "correct=female   guess=male     name=Ethelind                      \n",
      "correct=female   guess=male     name=Eveleen                       \n",
      "correct=female   guess=male     name=Fran                          \n",
      "correct=female   guess=male     name=Frances                       \n",
      "correct=female   guess=male     name=Gayleen                       \n",
      "correct=female   guess=male     name=Germain                       \n",
      "correct=female   guess=male     name=Gill                          \n",
      "correct=female   guess=male     name=Ginnifer                      \n",
      "correct=female   guess=male     name=Glenn                         \n",
      "correct=female   guess=male     name=Glyn                          \n",
      "correct=female   guess=male     name=Glynis                        \n",
      "correct=female   guess=male     name=Gretel                        \n",
      "correct=female   guess=male     name=Grier                         \n",
      "correct=female   guess=male     name=Gwen                          \n",
      "correct=female   guess=male     name=Gwendolyn                     \n",
      "correct=female   guess=male     name=Harriet                       \n",
      "correct=female   guess=male     name=Hildegaard                    \n",
      "correct=female   guess=male     name=Ingrid                        \n",
      "correct=female   guess=male     name=Jacklin                       \n",
      "correct=female   guess=male     name=Jackquelin                    \n",
      "correct=female   guess=male     name=Janot                         \n",
      "correct=female   guess=male     name=Jasmin                        \n",
      "correct=female   guess=male     name=Jenifer                       \n",
      "correct=female   guess=male     name=Jeniffer                      \n",
      "correct=female   guess=male     name=Jessamyn                      \n",
      "correct=female   guess=male     name=Jo Ann                        \n",
      "correct=female   guess=male     name=Joannes                       \n",
      "correct=female   guess=male     name=Joelynn                       \n",
      "correct=female   guess=male     name=Jolyn                         \n",
      "correct=female   guess=male     name=Jordain                       \n",
      "correct=female   guess=male     name=Joyan                         \n",
      "correct=female   guess=male     name=Karlen                        \n",
      "correct=female   guess=male     name=Kat                           \n",
      "correct=female   guess=male     name=Kathlin                       \n",
      "correct=female   guess=male     name=Kaylyn                        \n",
      "correct=female   guess=male     name=Kerstin                       \n",
      "correct=female   guess=male     name=Kristin                       \n",
      "correct=female   guess=male     name=Lamb                          \n",
      "correct=female   guess=male     name=Lian                          \n",
      "correct=female   guess=male     name=Loreen                        \n",
      "correct=female   guess=male     name=Lust                          \n",
      "correct=female   guess=male     name=Margalo                       \n",
      "correct=female   guess=male     name=Marillin                      \n",
      "correct=female   guess=male     name=Marion                        \n",
      "correct=female   guess=male     name=Marleen                       \n",
      "correct=female   guess=male     name=Mavis                         \n",
      "correct=female   guess=male     name=Megan                         \n",
      "correct=female   guess=male     name=Melisent                      \n",
      "correct=female   guess=male     name=Michal                        \n",
      "correct=female   guess=male     name=Michel                        \n",
      "correct=female   guess=male     name=Mignon                        \n",
      "correct=female   guess=male     name=Morgan                        \n",
      "correct=female   guess=male     name=Nadeen                        \n",
      "correct=female   guess=male     name=Nat                           \n",
      "correct=female   guess=male     name=Nert                          \n",
      "correct=female   guess=male     name=Noellyn                       \n",
      "correct=female   guess=male     name=Pearl                         \n",
      "correct=female   guess=male     name=Pegeen                        \n",
      "correct=female   guess=male     name=Pris                          \n",
      "correct=female   guess=male     name=Rhianon                       \n",
      "correct=female   guess=male     name=Rochell                       \n",
      "correct=female   guess=male     name=Roselyn                       \n",
      "correct=female   guess=male     name=Saraann                       \n",
      "correct=female   guess=male     name=Shawn                         \n",
      "correct=female   guess=male     name=Shir                          \n",
      "correct=female   guess=male     name=Siobhan                       \n",
      "correct=female   guess=male     name=Tamar                         \n",
      "correct=female   guess=male     name=Teriann                       \n",
      "correct=female   guess=male     name=Tiff                          \n",
      "correct=female   guess=male     name=Val                           \n",
      "correct=female   guess=male     name=Van                           \n",
      "correct=female   guess=male     name=Vin                           \n",
      "correct=female   guess=male     name=Violet                        \n",
      "correct=male     guess=female   name=Aldrich                       \n",
      "correct=male     guess=female   name=Alfie                         \n",
      "correct=male     guess=female   name=Allie                         \n",
      "correct=male     guess=female   name=Arne                          \n",
      "correct=male     guess=female   name=Barde                         \n",
      "correct=male     guess=female   name=Barnie                        \n",
      "correct=male     guess=female   name=Barri                         \n",
      "correct=male     guess=female   name=Benny                         \n",
      "correct=male     guess=female   name=Binky                         \n",
      "correct=male     guess=female   name=Bobbie                        \n",
      "correct=male     guess=female   name=Bobby                         \n",
      "correct=male     guess=female   name=Brooke                        \n",
      "correct=male     guess=female   name=Bucky                         \n",
      "correct=male     guess=female   name=Carey                         \n",
      "correct=male     guess=female   name=Chaddie                       \n",
      "correct=male     guess=female   name=Chaddy                        \n",
      "correct=male     guess=female   name=Chaunce                       \n",
      "correct=male     guess=female   name=Clarence                      \n",
      "correct=male     guess=female   name=Clyde                         \n",
      "correct=male     guess=female   name=Cory                          \n",
      "correct=male     guess=female   name=Costa                         \n",
      "correct=male     guess=female   name=Curtice                       \n",
      "correct=male     guess=female   name=Cyrille                       \n",
      "correct=male     guess=female   name=Daffy                         \n",
      "correct=male     guess=female   name=Danny                         \n",
      "correct=male     guess=female   name=Davidde                       \n",
      "correct=male     guess=female   name=Davy                          \n",
      "correct=male     guess=female   name=Dmitri                        \n",
      "correct=male     guess=female   name=Douggie                       \n",
      "correct=male     guess=female   name=Duffy                         \n",
      "correct=male     guess=female   name=Emmery                        \n",
      "correct=male     guess=female   name=Enrique                       \n",
      "correct=male     guess=female   name=Fairfax                       \n",
      "correct=male     guess=female   name=Ferdy                         \n",
      "correct=male     guess=female   name=Finley                        \n",
      "correct=male     guess=female   name=Fox                           \n",
      "correct=male     guess=female   name=Frankie                       \n",
      "correct=male     guess=female   name=Gabe                          \n",
      "correct=male     guess=female   name=Garth                         \n",
      "correct=male     guess=female   name=Georgia                       \n",
      "correct=male     guess=female   name=Geri                          \n",
      "correct=male     guess=female   name=Germaine                      \n",
      "correct=male     guess=female   name=Giovanne                      \n",
      "correct=male     guess=female   name=Giuseppe                      \n",
      "correct=male     guess=female   name=Graehme                       \n",
      "correct=male     guess=female   name=Haley                         \n",
      "correct=male     guess=female   name=Harry                         \n",
      "correct=male     guess=female   name=Henrique                      \n",
      "correct=male     guess=female   name=Herculie                      \n",
      "correct=male     guess=female   name=Hillery                       \n",
      "correct=male     guess=female   name=Hirsch                        \n",
      "correct=male     guess=female   name=Hugh                          \n",
      "correct=male     guess=female   name=Humphrey                      \n",
      "correct=male     guess=female   name=Hy                            \n",
      "correct=male     guess=female   name=Ira                           \n",
      "correct=male     guess=female   name=Isidore                       \n",
      "correct=male     guess=female   name=Jae                           \n",
      "correct=male     guess=female   name=Jerry                         \n",
      "correct=male     guess=female   name=Jessey                        \n",
      "correct=male     guess=female   name=Jeth                          \n",
      "correct=male     guess=female   name=Jimmie                        \n",
      "correct=male     guess=female   name=Joe                           \n",
      "correct=male     guess=female   name=Johnny                        \n",
      "correct=male     guess=female   name=Jose                          \n",
      "correct=male     guess=female   name=Jude                          \n",
      "correct=male     guess=female   name=Jule                          \n",
      "correct=male     guess=female   name=Keene                         \n",
      "correct=male     guess=female   name=Keith                         \n",
      "correct=male     guess=female   name=Lance                         \n",
      "correct=male     guess=female   name=Lane                          \n",
      "correct=male     guess=female   name=Laurance                      \n",
      "correct=male     guess=female   name=Lawrence                      \n",
      "correct=male     guess=female   name=Leslie                        \n",
      "correct=male     guess=female   name=Lorrie                        \n",
      "correct=male     guess=female   name=Mackenzie                     \n",
      "correct=male     guess=female   name=Manish                        \n",
      "correct=male     guess=female   name=Marmaduke                     \n",
      "correct=male     guess=female   name=Marty                         \n",
      "correct=male     guess=female   name=Mattie                        \n",
      "correct=male     guess=female   name=Meade                         \n",
      "correct=male     guess=female   name=Meredith                      \n",
      "correct=male     guess=female   name=Michele                       \n",
      "correct=male     guess=female   name=Mika                          \n",
      "correct=male     guess=female   name=Montague                      \n",
      "correct=male     guess=female   name=Monty                         \n",
      "correct=male     guess=female   name=Mugsy                         \n",
      "correct=male     guess=female   name=Murphy                        \n",
      "correct=male     guess=female   name=Mustafa                       \n",
      "correct=male     guess=female   name=Nichole                       \n",
      "correct=male     guess=female   name=Nikolai                       \n",
      "correct=male     guess=female   name=Noah                          \n",
      "correct=male     guess=female   name=Page                          \n",
      "correct=male     guess=female   name=Parry                         \n",
      "correct=male     guess=female   name=Patrice                       \n",
      "correct=male     guess=female   name=Pearce                        \n",
      "correct=male     guess=female   name=Percy                         \n",
      "correct=male     guess=female   name=Pooh                          \n",
      "correct=male     guess=female   name=Prince                        \n",
      "correct=male     guess=female   name=Quigly                        \n",
      "correct=male     guess=female   name=Rabbi                         \n",
      "correct=male     guess=female   name=Rabi                          \n",
      "correct=male     guess=female   name=Randolph                      \n",
      "correct=male     guess=female   name=Rene                          \n",
      "correct=male     guess=female   name=Reube                         \n",
      "correct=male     guess=female   name=Rex                           \n",
      "correct=male     guess=female   name=Reza                          \n",
      "correct=male     guess=female   name=Rice                          \n",
      "correct=male     guess=female   name=Riley                         \n",
      "correct=male     guess=female   name=Roice                         \n",
      "correct=male     guess=female   name=Roy                           \n",
      "correct=male     guess=female   name=Saxe                          \n",
      "correct=male     guess=female   name=Say                           \n",
      "correct=male     guess=female   name=Sayre                         \n",
      "correct=male     guess=female   name=Scotti                        \n",
      "correct=male     guess=female   name=Serge                         \n",
      "correct=male     guess=female   name=Shayne                        \n",
      "correct=male     guess=female   name=Shea                          \n",
      "correct=male     guess=female   name=Sheffie                       \n",
      "correct=male     guess=female   name=Shorty                        \n",
      "correct=male     guess=female   name=Sloane                        \n",
      "correct=male     guess=female   name=Smith                         \n",
      "correct=male     guess=female   name=Stevie                        \n",
      "correct=male     guess=female   name=Stevy                         \n",
      "correct=male     guess=female   name=Stinky                        \n",
      "correct=male     guess=female   name=Taite                         \n",
      "correct=male     guess=female   name=Tallie                        \n",
      "correct=male     guess=female   name=Tedie                         \n",
      "correct=male     guess=female   name=Terrence                      \n",
      "correct=male     guess=female   name=Thane                         \n",
      "correct=male     guess=female   name=Thayne                        \n",
      "correct=male     guess=female   name=Tobie                         \n",
      "correct=male     guess=female   name=Tore                          \n",
      "correct=male     guess=female   name=Torre                         \n",
      "correct=male     guess=female   name=Townie                        \n",
      "correct=male     guess=female   name=Tracie                        \n",
      "correct=male     guess=female   name=Verney                        \n",
      "correct=male     guess=female   name=Waite                         \n",
      "correct=male     guess=female   name=Wallache                      \n",
      "correct=male     guess=female   name=Wallie                        \n",
      "correct=male     guess=female   name=Way                           \n",
      "correct=male     guess=female   name=Wayne                         \n",
      "correct=male     guess=female   name=Westley                       \n",
      "correct=male     guess=female   name=Willi                         \n",
      "correct=male     guess=female   name=Wojciech                      \n",
      "correct=male     guess=female   name=Wolfie                        \n",
      "correct=male     guess=female   name=Wylie                         \n",
      "correct=male     guess=female   name=Yance                         \n",
      "correct=male     guess=female   name=Yardley                       \n"
     ]
    }
   ],
   "source": [
    "errors = []\n",
    "for (name, tag) in devtest_names:\n",
    "     guess = classifier.classify(gender_features(name))\n",
    "     if guess != tag:\n",
    "         errors.append( (tag, guess, name) )\n",
    "for (tag, guess, name) in sorted(errors):\n",
    "     print('correct={:<8} guess={:<8s} name={:<30}'.format(tag, guess, name))"
   ]
  },
  {
   "cell_type": "code",
   "execution_count": 8,
   "id": "26470124",
   "metadata": {},
   "outputs": [],
   "source": [
    "def gender_features(word):\n",
    "     return {'suffix1': word[-1:],\n",
    "             'suffix2': word[-2:]}"
   ]
  },
  {
   "cell_type": "code",
   "execution_count": 9,
   "id": "6fa42ddf",
   "metadata": {},
   "outputs": [
    {
     "name": "stdout",
     "output_type": "stream",
     "text": [
      "0.763\n"
     ]
    }
   ],
   "source": [
    "train_set = [(gender_features(n), gender) for (n, gender) in train_names]\n",
    "devtest_set = [(gender_features(n), gender) for (n, gender) in devtest_names]\n",
    "classifier = nltk.NaiveBayesClassifier.train(train_set)\n",
    "print(nltk.classify.accuracy(classifier, devtest_set))"
   ]
  },
  {
   "cell_type": "markdown",
   "id": "ddd2571f",
   "metadata": {},
   "source": [
    "# 1.3 Document Classification\n",
    "\n",
    "In 1, we saw several examples of corpora where documents have been labeled with categories. Using these corpora, we can build classifiers that will automatically tag new documents with appropriate category labels. First, we construct a list of documents, labeled with the appropriate categories. For this example, we've chosen the Movie Reviews Corpus, which categorizes each review as positive or negative."
   ]
  },
  {
   "cell_type": "code",
   "execution_count": 10,
   "id": "d141cc46",
   "metadata": {},
   "outputs": [
    {
     "name": "stdout",
     "output_type": "stream",
     "text": [
      "Document Classification: 0.75\n"
     ]
    }
   ],
   "source": [
    "import nltk\n",
    "import random\n",
    "from nltk.corpus import movie_reviews\n",
    "documents = [(list(movie_reviews.words(fileid)), category)\n",
    "             for category in movie_reviews.categories()\n",
    "             for fileid in movie_reviews.fileids(category)]\n",
    "random.shuffle(documents)\n",
    "all_words = nltk.FreqDist(w.lower() for w in movie_reviews.words())\n",
    "word_features = list(all_words)[:2000]\n",
    "def document_features(document):\n",
    "      document_words = set(document)\n",
    "      features = {}\n",
    "      for word in word_features:\n",
    "              features['contains({})'.format(word)] = (word in document_words)\n",
    "      return features\n",
    "featuresets = [(document_features(d), c) for (d,c) in documents]\n",
    "train_set, test_set = featuresets[100:], featuresets[:100]\n",
    "classifier = nltk.NaiveBayesClassifier.train(train_set)\n",
    "print(\"Document Classification:\", nltk.classify.accuracy(classifier,test_set))"
   ]
  },
  {
   "cell_type": "markdown",
   "id": "146528ff",
   "metadata": {},
   "source": [
    "# 1.4 Part-of-Speech Tagging\n",
    "\n",
    "실습 및 공부하기\n",
    "\n",
    "In 5. we built a regular expression tagger that chooses a part-of-speech tag for a word by looking at the internal make-up of the word. However, this regular expression tagger had to be hand-crafted. Instead, we can train a classifier to work out which suffixes are most informative. Let's begin by finding out what the most common suffixes are:"
   ]
  },
  {
   "cell_type": "code",
   "execution_count": 11,
   "id": "fa75d63c",
   "metadata": {},
   "outputs": [
    {
     "name": "stdout",
     "output_type": "stream",
     "text": [
      "POS Tagging: 0.6270512182993535\n"
     ]
    }
   ],
   "source": [
    "from nltk.corpus import brown\n",
    "suffix_fdist = nltk.FreqDist()\n",
    "for word in brown.words():\n",
    "        word = word.lower()\n",
    "        suffix_fdist[word[-1:]] += 1\n",
    "        suffix_fdist[word[-2:]] += 1\n",
    "        suffix_fdist[word[-3:]] += 1\n",
    "common_suffixes = [suffix for (suffix, count) in suffix_fdist.most_common(100)]\n",
    "def pos_features(word):\n",
    "        features = {}\n",
    "        for suffix in common_suffixes:\n",
    "                features['endswith({})'.format(suffix)] = word.lower().endswith(suffix)\n",
    "        return features\n",
    "tagged_words = brown.tagged_words(categories='news')\n",
    "featuresets = [(pos_features(n), g) for (n,g) in tagged_words]\n",
    "size = int(len(featuresets) * 0.1)\n",
    "train_set, test_set = featuresets[size:], featuresets[:size]\n",
    "classifier = nltk.DecisionTreeClassifier.train(train_set)\n",
    "print(\"POS Tagging:\", nltk.classify.accuracy(classifier,test_set))"
   ]
  },
  {
   "cell_type": "markdown",
   "id": "cfea8d7c",
   "metadata": {},
   "source": [
    "# 1.5 Exploiting Context\n",
    "\n",
    "스킵 가능"
   ]
  },
  {
   "cell_type": "markdown",
   "id": "d5bffd57",
   "metadata": {},
   "source": [
    "By augmenting the feature extraction function, we could modify this part-of-speech tagger to leverage a variety of other word-internal features, such as the length of the word, the number of syllables it contains, or its prefix. However, as long as the feature extractor just looks at the target word, we have no way to add features that depend on the context that the word appears in. But contextual features often provide powerful clues about the correct tag — for example, when tagging the word \"fly,\" knowing that the previous word is \"a\" will allow us to determine that it is functioning as a noun, not a verb."
   ]
  },
  {
   "cell_type": "code",
   "execution_count": 18,
   "id": "b1953e37",
   "metadata": {},
   "outputs": [],
   "source": [
    "def pos_features(sentence, i): \n",
    "    features = {\"suffix(1)\": sentence[i][-1:],\n",
    "                \"suffix(2)\": sentence[i][-2:],\n",
    "                \"suffix(3)\": sentence[i][-3:]}\n",
    "    if i == 0:\n",
    "        features[\"prev-word\"] = \"<START>\"\n",
    "    else:\n",
    "        features[\"prev-word\"] = sentence[i-1]\n",
    "    return features"
   ]
  },
  {
   "cell_type": "code",
   "execution_count": 19,
   "id": "6416a0c2",
   "metadata": {},
   "outputs": [
    {
     "data": {
      "text/plain": [
       "0.7891596220785678"
      ]
     },
     "execution_count": 19,
     "metadata": {},
     "output_type": "execute_result"
    }
   ],
   "source": [
    "pos_features(brown.sents()[0], 8)\n",
    "\n",
    "tagged_sents = brown.tagged_sents(categories='news')\n",
    "featuresets = []\n",
    "for tagged_sent in tagged_sents:\n",
    "     untagged_sent = nltk.tag.untag(tagged_sent)\n",
    "     for i, (word, tag) in enumerate(tagged_sent):\n",
    "         featuresets.append( (pos_features(untagged_sent, i), tag) )\n",
    "\n",
    "size = int(len(featuresets) * 0.1)\n",
    "train_set, test_set = featuresets[size:], featuresets[:size]\n",
    "classifier = nltk.NaiveBayesClassifier.train(train_set)\n",
    "\n",
    "nltk.classify.accuracy(classifier, test_set)"
   ]
  },
  {
   "cell_type": "markdown",
   "id": "e64a3b75",
   "metadata": {},
   "source": [
    "# 1.6 Sequence Classification\n",
    "\n",
    "어려운 내용이라 스킵해도 됨."
   ]
  },
  {
   "cell_type": "markdown",
   "id": "e9cffb10",
   "metadata": {},
   "source": [
    "In order to capture the dependencies between related classification tasks, we can use joint classifier models, which choose an appropriate labeling for a collection of related inputs. In the case of part-of-speech tagging, a variety of different sequence classifier models can be used to jointly choose part-of-speech tags for all the words in a given sentence.\n",
    "\n",
    "One sequence classification strategy, known as consecutive classification or greedy sequence classification, is to find the most likely class label for the first input, then to use that answer to help find the best label for the next input. The process can then be repeated until all of the inputs have been labeled. This is the approach that was taken by the bigram tagger from 5, which began by choosing a part-of-speech tag for the first word in the sentence, and then chose the tag for each subsequent word based on the word itself and the predicted tag for the previous word."
   ]
  },
  {
   "cell_type": "code",
   "execution_count": 17,
   "id": "b928a7c7",
   "metadata": {},
   "outputs": [
    {
     "name": "stdout",
     "output_type": "stream",
     "text": [
      "Consecutive POS Tagger: 0.7980528511821975\n"
     ]
    }
   ],
   "source": [
    "def pos_features(sentence, i, history):\n",
    "        features = {\"suffix(1)\": sentence[i][-1:],\n",
    "                    \"suffix(2)\": sentence[i][-2:],\n",
    "                    \"suffix(3)\": sentence[i][-3:]}\n",
    "        if i == 0:\n",
    "                features[\"prev-word\"] = \"<START>\"\n",
    "                features[\"prev-tag\"] = \"<START>\"\n",
    "        else:\n",
    "                features[\"prev-word\"] = sentence[i-1]\n",
    "                features[\"prev-tag\"] = history[i-1]\n",
    "        return features\n",
    "class ConsecutivePosTagger(nltk.TaggerI):\n",
    "        def __init__(self, train_sents):\n",
    "                train_set = []\n",
    "                for tagged_sent in train_sents:\n",
    "                    untagged_sent = nltk.tag.untag(tagged_sent)\n",
    "                    history = []\n",
    "                    for i, (word, tag) in enumerate(tagged_sent):\n",
    "                        featureset = pos_features(untagged_sent, i, history)\n",
    "                        train_set.append( (featureset, tag) )\n",
    "                        history.append(tag)\n",
    "                self.classifier = nltk.NaiveBayesClassifier.train(train_set)\n",
    "        def tag(self, sentence):\n",
    "                history = []\n",
    "                for i, word in enumerate(sentence):\n",
    "                    featureset = pos_features(sentence, i, history)\n",
    "                    tag = self.classifier.classify(featureset)\n",
    "                    history.append(tag)\n",
    "                return zip(sentence, history)\n",
    "tagged_sents = brown.tagged_sents(categories='news')\n",
    "size = int(len(tagged_sents) * 0.1)\n",
    "train_sents, test_sents = tagged_sents[size:], tagged_sents[:size]\n",
    "tagger = ConsecutivePosTagger(train_sents)\n",
    "print(\"Consecutive POS Tagger:\", tagger.evaluate(test_sents))\n"
   ]
  },
  {
   "cell_type": "markdown",
   "id": "ffc26c7d",
   "metadata": {},
   "source": [
    "# 2.1 Sentence Segmentation\n",
    "\n",
    "\n",
    "실습 및 공부하기"
   ]
  },
  {
   "cell_type": "markdown",
   "id": "0f725a83",
   "metadata": {},
   "source": [
    "Sentence segmentation can be viewed as a classification task for punctuation: whenever we encounter a symbol that could possibly end a sentence, such as a period or a question mark, we have to decide whether it terminates the preceding sentence.\n",
    "\n",
    "The first step is to obtain some data that has already been segmented into sentences and convert it into a form that is suitable for extracting features:"
   ]
  },
  {
   "cell_type": "code",
   "execution_count": 32,
   "id": "2ad903bf",
   "metadata": {},
   "outputs": [],
   "source": [
    "import nltk\n",
    "import random"
   ]
  },
  {
   "cell_type": "code",
   "execution_count": 33,
   "id": "b3ac0541",
   "metadata": {},
   "outputs": [],
   "source": [
    "from nltk.tokenize import word_tokenize, sent_tokenize"
   ]
  },
  {
   "cell_type": "code",
   "execution_count": 34,
   "id": "f20b9dac",
   "metadata": {},
   "outputs": [],
   "source": [
    "import pprint"
   ]
  },
  {
   "cell_type": "code",
   "execution_count": 35,
   "id": "22e66e87",
   "metadata": {},
   "outputs": [
    {
     "name": "stderr",
     "output_type": "stream",
     "text": [
      "[nltk_data] Downloading package gutenberg to\n",
      "[nltk_data]     C:\\Users\\USER\\AppData\\Roaming\\nltk_data...\n",
      "[nltk_data]   Package gutenberg is already up-to-date!\n"
     ]
    },
    {
     "data": {
      "text/plain": [
       "True"
      ]
     },
     "execution_count": 35,
     "metadata": {},
     "output_type": "execute_result"
    }
   ],
   "source": [
    "nltk.download('gutenberg')"
   ]
  },
  {
   "cell_type": "code",
   "execution_count": 36,
   "id": "619a4a93",
   "metadata": {},
   "outputs": [],
   "source": [
    "text = nltk.corpus.gutenberg.raw('chesterton-thursday.txt')"
   ]
  },
  {
   "cell_type": "code",
   "execution_count": 37,
   "id": "c1f7b6b3",
   "metadata": {},
   "outputs": [],
   "source": [
    "sents = nltk.sent_tokenize(text)"
   ]
  },
  {
   "cell_type": "code",
   "execution_count": 38,
   "id": "d7dae693",
   "metadata": {},
   "outputs": [
    {
     "name": "stdout",
     "output_type": "stream",
     "text": [
      "['\"Nonsense!\"',\n",
      " 'said Gregory, who was very rational when anyone else\\nattempted paradox.',\n",
      " '\"Why do all the clerks and navvies in the\\n'\n",
      " 'railway trains look so sad and tired, so very sad and tired?',\n",
      " 'I will\\ntell you.',\n",
      " 'It is because they know that the train is going right.',\n",
      " 'It\\n'\n",
      " 'is because they know that whatever place they have taken a ticket\\n'\n",
      " 'for that place they will reach.',\n",
      " 'It is because after they have\\n'\n",
      " 'passed Sloane Square they know that the next station must be\\n'\n",
      " 'Victoria, and nothing but Victoria.',\n",
      " 'Oh, their wild rapture!',\n",
      " 'oh,\\n'\n",
      " 'their eyes like stars and their souls again in Eden, if the next\\n'\n",
      " 'station were unaccountably Baker Street!\"',\n",
      " '\"It is you who are unpoetical,\" replied the poet Syme.']\n"
     ]
    }
   ],
   "source": [
    "pprint.pprint(sents[79:89])"
   ]
  },
  {
   "cell_type": "markdown",
   "id": "bf6c8bdd",
   "metadata": {},
   "source": [
    "# 2.2 Identifying Dialogue Act Types"
   ]
  },
  {
   "cell_type": "markdown",
   "id": "8fc8a13b",
   "metadata": {},
   "source": [
    "When processing dialogue, it can be useful to think of utterances as a type of action performed by the speaker. This interpretation is most straightforward for performative statements such as \"I forgive you\" or \"I bet you can't climb that hill.\" But greetings, questions, answers, assertions, and clarifications can all be thought of as types of speech-based actions. Recognizing the dialogue acts underlying the utterances in a dialogue can be an important first step in understanding the conversation.\n",
    "\n",
    "The NPS Chat Corpus, which was demonstrated in 1, consists of over 10,000 posts from instant messaging sessions. These posts have all been labeled with one of 15 dialogue act types, such as \"Statement,\" \"Emotion,\" \"ynQuestion\", and \"Continuer.\" We can therefore use this data to build a classifier that can identify the dialogue act types for new instant messaging posts. The first step is to extract the basic messaging data. We will call xml_posts() to get a data structure representing the XML annotation for each post:#"
   ]
  },
  {
   "cell_type": "markdown",
   "id": "df7cd841",
   "metadata": {},
   "source": [
    "posts = nltk.corpus.nps_chat.xml_posts()[:10000]\n",
    "def dialogue_act_features(post):\n",
    "        features = {}\n",
    "        for word in nltk.word_tokenize(post):\n",
    "                features['contains({})'.format(word.lower())] = True\n",
    "        return features\n",
    "featuresets = [(dialogue_act_features(post.text), post.get('class')) for post in posts]\n",
    "size = int(len(featuresets) * 0.1)\n",
    "train_set, test_set = featuresets[size:], featuresets[:size]\n",
    "classifier = nltk.NaiveBayesClassifier.train(train_set)\n",
    "print(\"Dialog Act Type:\", nltk.classify.accuracy(classifier, test_set))"
   ]
  },
  {
   "cell_type": "markdown",
   "id": "c2b184be",
   "metadata": {},
   "source": [
    "# 2.3 Recognizing Textual Entailment"
   ]
  },
  {
   "cell_type": "markdown",
   "id": "963a1619",
   "metadata": {},
   "source": [
    "Recognizing textual entailment (RTE) is the task of determining whether a given piece of text T entails another text called the \"hypothesis\" (as already discussed in 5). To date, there have been four RTE Challenges, where shared development and test data is made available to competing teams. Here are a couple of examples of text/hypothesis pairs from the Challenge 3 development dataset. The label True indicates that the entailment holds, and False, that it fails to hold."
   ]
  },
  {
   "cell_type": "markdown",
   "id": "5887175b",
   "metadata": {},
   "source": [
    "rtepairs = nltk.corpus.rte.pairs(['rte3_dev.xml'])\n",
    "def rte_features(rtepair):\n",
    "    extractor = nltk.RTEFeatureExtractor(rtepair)\n",
    "    features = {}\n",
    "    features['word_overlap'] = len(extractor.overlap('word'))\n",
    "    features['word_hyp_extra'] = len(extractor.hyp_extra('word'))\n",
    "    features['ne_overlap'] = len(extractor.overlap('ne'))\n",
    "    features['ne_hyp_extra'] = len(extractor.hyp_extra('ne'))\n",
    "    return features\n",
    "featuresets = [(rte_features(rtepair), rtepair.value) for rtepair in rtepairs]\n",
    "size = int(len(featuresets) * 0.1)\n",
    "train_set, test_set = featuresets[size:], featuresets[:size]\n",
    "classifier = nltk.NaiveBayesClassifier.train(train_set)\n",
    "print(\"RTE Recognition:\", nltk.classify.accuracy(classifier, test_set))"
   ]
  },
  {
   "cell_type": "markdown",
   "id": "0b9b4055",
   "metadata": {},
   "source": [
    "# NLTK에서 scikit-learn Wrapper를 활용\n",
    "\n",
    "https://youtu.be/nla4C-VYNEU https://www.python-course.eu/neural_networks_with_scikit.php"
   ]
  },
  {
   "cell_type": "code",
   "execution_count": 15,
   "id": "fdf6500d",
   "metadata": {},
   "outputs": [
    {
     "name": "stdout",
     "output_type": "stream",
     "text": [
      "MNB Accuracy: 83.0\n"
     ]
    }
   ],
   "source": [
    "import nltk\n",
    "import random\n",
    "from nltk.corpus import movie_reviews\n",
    "import pickle\n",
    "from nltk.classify.scikitlearn import SklearnClassifier\n",
    "from sklearn.naive_bayes import MultinomialNB\n",
    "MNH_classifier = SklearnClassifier(MultinomialNB())\n",
    "documents = [(list(movie_reviews.words(fileid)), category)\n",
    "             for category in movie_reviews.categories()\n",
    "             for fileid in movie_reviews.fileids(category)]\n",
    "random.shuffle(documents)\n",
    "all_words = []\n",
    "for w in movie_reviews.words():\n",
    "  all_words.append(w.lower())\n",
    "all_words = nltk.FreqDist(all_words)\n",
    "word_features = list(all_words.keys())[:3000]\n",
    "def find_features(document):\n",
    "      words = set(document)\n",
    "      features = {}\n",
    "      for w in word_features:\n",
    "              features[w] = (w in words)\n",
    "      return features\n",
    "featuresets = [(find_features(rev), category) for (rev, category) in documents]\n",
    "training_set = featuresets[:1900]\n",
    "testing_set = featuresets[1900:]\n",
    "MNB_classifier = SklearnClassifier(MultinomialNB())\n",
    "MNB_classifier.train(training_set)\n",
    "print(\"MNB Accuracy:\", (nltk.classify.accuracy(MNB_classifier,testing_set))*100)"
   ]
  },
  {
   "cell_type": "markdown",
   "id": "2e0a97fa",
   "metadata": {},
   "source": [
    "4.4장 스킵"
   ]
  },
  {
   "cell_type": "code",
   "execution_count": null,
   "id": "4aa930b3",
   "metadata": {},
   "outputs": [],
   "source": []
  }
 ],
 "metadata": {
  "kernelspec": {
   "display_name": "Python 3 (ipykernel)",
   "language": "python",
   "name": "python3"
  },
  "language_info": {
   "codemirror_mode": {
    "name": "ipython",
    "version": 3
   },
   "file_extension": ".py",
   "mimetype": "text/x-python",
   "name": "python",
   "nbconvert_exporter": "python",
   "pygments_lexer": "ipython3",
   "version": "3.9.7"
  }
 },
 "nbformat": 4,
 "nbformat_minor": 5
}
