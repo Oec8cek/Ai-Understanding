{
  "cells": [
    {
      "cell_type": "markdown",
      "metadata": {
        "id": "view-in-github",
        "colab_type": "text"
      },
      "source": [
        "<a href=\"https://colab.research.google.com/github/Oec8cek/Ai-Understanding/blob/main/PR_Closed_World.ipynb\" target=\"_parent\"><img src=\"https://colab.research.google.com/assets/colab-badge.svg\" alt=\"Open In Colab\"/></a>"
      ]
    },
    {
      "cell_type": "markdown",
      "metadata": {
        "id": "6a7b3a0l2ep4"
      },
      "source": [
        "1. mon_standard.pkl > array 코드"
      ]
    },
    {
      "cell_type": "code",
      "execution_count": 5,
      "metadata": {
        "id": "pieeURnyYVr6"
      },
      "outputs": [],
      "source": [
        "import pandas as pd\n",
        "import numpy as np\n",
        "import sklearn as sk"
      ]
    },
    {
      "cell_type": "code",
      "execution_count": 2,
      "metadata": {
        "colab": {
          "base_uri": "https://localhost:8080/"
        },
        "id": "qeGrmcCpiR9T",
        "outputId": "a79d5e6a-5b0c-4592-dcd8-85ee907266e9"
      },
      "outputs": [
        {
          "output_type": "stream",
          "name": "stdout",
          "text": [
            "Mounted at /content/drive\n"
          ]
        }
      ],
      "source": [
        "from google.colab import drive\n",
        "drive.mount('/content/drive')"
      ]
    },
    {
      "cell_type": "code",
      "execution_count": 3,
      "metadata": {
        "colab": {
          "base_uri": "https://localhost:8080/"
        },
        "id": "iAvs0m7EiV58",
        "outputId": "2ebefb8b-f3b7-4d56-80d4-ae445f701781"
      },
      "outputs": [
        {
          "output_type": "stream",
          "name": "stdout",
          "text": [
            "/content/drive/MyDrive\n"
          ]
        }
      ],
      "source": [
        "%cd /content/drive/MyDrive"
      ]
    },
    {
      "cell_type": "code",
      "execution_count": 4,
      "metadata": {
        "colab": {
          "base_uri": "https://localhost:8080/"
        },
        "id": "5mfwrTwPtd36",
        "outputId": "5f2ce9cd-b8dc-4acf-9895-c1539546bd01"
      },
      "outputs": [
        {
          "output_type": "stream",
          "name": "stdout",
          "text": [
            "Loading datafile...\n",
            "Total samples: 19000\n"
          ]
        }
      ],
      "source": [
        "import pickle\n",
        "\n",
        "USE_SUBLABEL = False\n",
        "URL_PER_SITE = 10\n",
        "TOTAL_URLS   = 950\n",
        "\n",
        "# 피클 파일 로드\n",
        "print(\"Loading datafile...\")\n",
        "with open(\"/content/drive/MyDrive/mon_standard.pkl\", 'rb') as fi: # 코랩내 mon_standard.pkl 경로\n",
        "    data = pickle.load(fi)\n",
        "\n",
        "X = [] # instance(direction*size) 사이즈정보가 담기는 배열\n",
        "y = [] # 각 instance의 사이트가 담기는 배열 19000개가 담김 ex. [0, 0, 0, 0, 0, 0, ..., 94, 94, 94, 94, 94]\n",
        "\n",
        "# instance와 사이트를 구분하여 각각 x, y배열에 저장\n",
        "# x 배열(direction*timestamp), y 배열(site 레이블)\n",
        "for i in range(TOTAL_URLS):\n",
        "    if USE_SUBLABEL:\n",
        "        label = i\n",
        "    else:\n",
        "        label = i // URL_PER_SITE # 현재 처리 중인 URL이 몇 번째 사이트의 URL인지 계산하여 그 값을 label로 설정. 즉, 하나의 사이트에서 가져온 URL이 같은 레이블로 설정됨.\n",
        "    for sample in data[i]:\n",
        "        size_seq=[]\n",
        "        for c in sample:\n",
        "            dr = 1 if c > 0 else -1\n",
        "            size_seq.append(dr*512)\n",
        "        X.append(size_seq)\n",
        "        y.append(label)\n",
        "size = len(y)\n",
        "\n",
        "print(f'Total samples: {size}') # 출력값: 19000"
      ]
    },
    {
      "cell_type": "code",
      "execution_count": 7,
      "metadata": {
        "id": "VECpKNgS0WxF"
      },
      "outputs": [],
      "source": [
        "from sklearn.naive_bayes import BernoulliNB, CategoricalNB, ComplementNB, GaussianNB, MultinomialNB\n",
        "from sklearn.model_selection import train_test_split\n",
        "from sklearn.metrics import accuracy_score\n",
        "from tensorflow.keras.preprocessing.sequence import pad_sequences\n",
        "import random\n",
        "\n",
        "# 최대 길이 계산\n",
        "max_length = max(len(seq) for seq in X)  \n",
        "\n",
        "# 데이터를 2차원 배열로 변환\n",
        "X = pad_sequences(X, maxlen=max_length, padding='post')\n",
        "\n",
        "# 데이터 분할 (학습 데이터와 테스트 데이터)\n",
        "X_train, X_test, y_train, y_test = train_test_split(X, y, test_size=0.16, random_state=42)"
      ]
    },
    {
      "cell_type": "code",
      "execution_count": 8,
      "metadata": {
        "id": "GC7gPu5mZfeH",
        "colab": {
          "base_uri": "https://localhost:8080/"
        },
        "outputId": "a34f6c3f-31fd-408b-fe21-28735675d3f9"
      },
      "outputs": [
        {
          "output_type": "stream",
          "name": "stdout",
          "text": [
            "k-NN 정확도: 0.19736842105263158\n"
          ]
        }
      ],
      "source": [
        "# k-NN 모델 학습 및 정확도 평가\n",
        "from sklearn.neighbors import KNeighborsClassifier\n",
        "\n",
        "model_knn = KNeighborsClassifier(n_neighbors=10)\n",
        "model_knn.fit(X_train, y_train)\n",
        "y_pred_knn = model_knn.predict(X_test)\n",
        "accuracy_knn = accuracy_score(y_test, y_pred_knn)\n",
        "print(\"k-NN 정확도:\", accuracy_knn)"
      ]
    },
    {
      "cell_type": "code",
      "execution_count": null,
      "metadata": {
        "colab": {
          "base_uri": "https://localhost:8080/"
        },
        "id": "baqA59e_Z6f7",
        "outputId": "42228535-3fc8-42f6-ce53-a7174cca822e"
      },
      "outputs": [
        {
          "name": "stdout",
          "output_type": "stream",
          "text": [
            "Decision Tree 정확도: 0.7257894736842105\n"
          ]
        }
      ],
      "source": [
        "from sklearn.tree import DecisionTreeClassifier\n",
        "\n",
        "# Decision Tree 모델 학습 및 정확도 평가\n",
        "model_dt = DecisionTreeClassifier()\n",
        "model_dt.fit(X_train, y_train)\n",
        "y_pred_dt = model_dt.predict(X_test)\n",
        "accuracy_dt = accuracy_score(y_test, y_pred_dt)\n",
        "print(\"Decision Tree 정확도:\", accuracy_dt)"
      ]
    },
    {
      "cell_type": "code",
      "execution_count": null,
      "metadata": {
        "colab": {
          "base_uri": "https://localhost:8080/"
        },
        "id": "CTdRROvAaOON",
        "outputId": "822349e2-d71c-4afb-99d1-6b1137552007"
      },
      "outputs": [
        {
          "name": "stdout",
          "output_type": "stream",
          "text": [
            "Random Forest 정확도: 0.7368421052631579\n"
          ]
        }
      ],
      "source": [
        "from sklearn.ensemble import RandomForestClassifier\n",
        "\n",
        "# Random Forest 모델 학습 및 정확도 평가\n",
        "model_rf = RandomForestClassifier()\n",
        "model_rf.fit(X_train, y_train)\n",
        "y_pred_rf = model_rf.predict(X_test)\n",
        "accuracy_rf = accuracy_score(y_test, y_pred_rf)\n",
        "print(\"Random Forest 정확도:\", accuracy_rf)"
      ]
    },
    {
      "cell_type": "code",
      "execution_count": null,
      "metadata": {
        "colab": {
          "base_uri": "https://localhost:8080/"
        },
        "id": "Q2V_1oIXa2Mg",
        "outputId": "84483046-5f28-4420-aae5-55bd3c61c5b7"
      },
      "outputs": [
        {
          "name": "stderr",
          "output_type": "stream",
          "text": [
            "/usr/local/lib/python3.10/dist-packages/sklearn/linear_model/_logistic.py:458: ConvergenceWarning: lbfgs failed to converge (status=1):\n",
            "STOP: TOTAL NO. of ITERATIONS REACHED LIMIT.\n",
            "\n",
            "Increase the number of iterations (max_iter) or scale the data as shown in:\n",
            "    https://scikit-learn.org/stable/modules/preprocessing.html\n",
            "Please also refer to the documentation for alternative solver options:\n",
            "    https://scikit-learn.org/stable/modules/linear_model.html#logistic-regression\n",
            "  n_iter_i = _check_optimize_result(\n"
          ]
        },
        {
          "name": "stdout",
          "output_type": "stream",
          "text": [
            "Logistic Regression 정확도: 0.6595394736842105\n"
          ]
        }
      ],
      "source": [
        "from sklearn.linear_model import LogisticRegression\n",
        "\n",
        "# Logistic Regression 모델 학습 및 정확도 평가\n",
        "model_lr = LogisticRegression()\n",
        "model_lr.fit(X_train, y_train)\n",
        "y_pred_lr = model_lr.predict(X_test)\n",
        "accuracy_lr = accuracy_score(y_test, y_pred_lr)\n",
        "print(\"Logistic Regression 정확도:\", accuracy_lr)"
      ]
    },
    {
      "cell_type": "code",
      "source": [
        "from sklearn.svm import SVC\n",
        "\n",
        "# SVC 모델 학습 및 정확도 평가\n",
        "model_svc = SVC()\n",
        "model_svc.fit(X_train, y_train)\n",
        "y_pred_svc = model_svc.predict(X_test)\n",
        "accuracy_svc = accuracy_score(y_test, y_pred_svc)\n",
        "print(\"Support Vector Classifier 정확도:\", accuracy_svc)"
      ],
      "metadata": {
        "id": "TUaAJ_Fu4_Id"
      },
      "execution_count": null,
      "outputs": []
    },
    {
      "cell_type": "code",
      "execution_count": null,
      "metadata": {
        "colab": {
          "base_uri": "https://localhost:8080/"
        },
        "id": "DeS9flCDGaw3",
        "outputId": "f1429ac0-ca23-42cf-d69d-76755e05d34b"
      },
      "outputs": [
        {
          "name": "stdout",
          "output_type": "stream",
          "text": [
            "BernoulliNB 정확도: 0.41842105263157897\n"
          ]
        }
      ],
      "source": [
        "# Bernoulli Naive Bayes 모델 학습 및 정확도 평가\n",
        "model_bnb = BernoulliNB()\n",
        "model_bnb.fit(X_train, y_train)\n",
        "y_pred_bnb = model_bnb.predict(X_test)\n",
        "accuracy_bnb = accuracy_score(y_test, y_pred_bnb)\n",
        "print(\"BernoulliNB 정확도:\", accuracy_bnb)"
      ]
    },
    {
      "cell_type": "code",
      "execution_count": null,
      "metadata": {
        "id": "vudE8SKQxLyn"
      },
      "outputs": [],
      "source": [
        "import xgboost as xgb\n",
        "from sklearn.metrics import accuracy_score\n",
        "\n",
        "model_xgb = xgb.XGBClassifier()\n",
        "model_xgb.fit(X_train, y_train)\n",
        "y_pred_xgb = model_xgb.predict(X_test)\n",
        "accuracy_xgb = accuracy_score(y_test, y_pred_xgb)\n",
        "print(\"XGBoost 정확도:\", accuracy_xgb)"
      ]
    },
    {
      "cell_type": "code",
      "execution_count": null,
      "metadata": {
        "id": "CPGOJIsba4a1"
      },
      "outputs": [],
      "source": [
        "from sklearn.ensemble import GradientBoostingClassifier\n",
        "\n",
        "# Gradient Boosting 모델 학습 및 정확도 평가\n",
        "model_gb = GradientBoostingClassifier()\n",
        "model_gb.fit(X_train, y_train)\n",
        "y_pred_gb = model_gb.predict(X_test)\n",
        "accuracy_gb = accuracy_score(y_test, y_pred_gb)\n",
        "print(\"Gradient Boosting 정확도:\", accuracy_gb)"
      ]
    }
  ],
  "metadata": {
    "colab": {
      "provenance": [],
      "include_colab_link": true
    },
    "gpuClass": "standard",
    "kernelspec": {
      "display_name": "Python 3",
      "name": "python3"
    },
    "language_info": {
      "name": "python"
    }
  },
  "nbformat": 4,
  "nbformat_minor": 0
}