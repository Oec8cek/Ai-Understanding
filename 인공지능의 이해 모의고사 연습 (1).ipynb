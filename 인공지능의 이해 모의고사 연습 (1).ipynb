{
 "cells": [
  {
   "cell_type": "code",
   "execution_count": 1,
   "id": "138f3a23",
   "metadata": {},
   "outputs": [],
   "source": [
    "import nltk"
   ]
  },
  {
   "cell_type": "code",
   "execution_count": 2,
   "id": "f57b225e",
   "metadata": {},
   "outputs": [
    {
     "name": "stdout",
     "output_type": "stream",
     "text": [
      "*** Introductory Examples for the NLTK Book ***\n",
      "Loading text1, ..., text9 and sent1, ..., sent9\n",
      "Type the name of the text or sentence to view it.\n",
      "Type: 'texts()' or 'sents()' to list the materials.\n",
      "text1: Moby Dick by Herman Melville 1851\n",
      "text2: Sense and Sensibility by Jane Austen 1811\n",
      "text3: The Book of Genesis\n",
      "text4: Inaugural Address Corpus\n",
      "text5: Chat Corpus\n",
      "text6: Monty Python and the Holy Grail\n",
      "text7: Wall Street Journal\n",
      "text8: Personals Corpus\n",
      "text9: The Man Who Was Thursday by G . K . Chesterton 1908\n"
     ]
    }
   ],
   "source": [
    "from nltk.book import *"
   ]
  },
  {
   "cell_type": "markdown",
   "id": "b35fc532",
   "metadata": {},
   "source": [
    "Quiz Exam1 : NLTK python programming\n",
    "\n",
    "# Q1. 주어진 문자열을 거꾸로(reverse) 반환하는 함수 revString()을 정의하라. (imperative style : 지역변수 사용해도 됨)"
   ]
  },
  {
   "cell_type": "code",
   "execution_count": 25,
   "id": "432421d2",
   "metadata": {},
   "outputs": [],
   "source": [
    "def revString(str):\n",
    "    mylist = [str[0]]\n",
    "    for i in str[1:]:\n",
    "        mylist.insert(0, i)\n",
    "    result = \"\"\n",
    "    for s in mylist:\n",
    "        result += s\n",
    "    \n",
    "    return result"
   ]
  },
  {
   "cell_type": "code",
   "execution_count": 26,
   "id": "26764a3d",
   "metadata": {},
   "outputs": [
    {
     "data": {
      "text/plain": [
       "'snezitiC'"
      ]
     },
     "execution_count": 26,
     "metadata": {},
     "output_type": "execute_result"
    }
   ],
   "source": [
    "revString(sent4[2])"
   ]
  },
  {
   "cell_type": "markdown",
   "id": "b61f6fef",
   "metadata": {},
   "source": [
    "# Q1. 주어진 문자열을 거꾸로(reverse) 반환하는 함수 revString2()을 정의하되 재귀용법(recursion)을 사용하여 정의하라. (function style: 지역변수 사용하지 말 것)"
   ]
  },
  {
   "cell_type": "code",
   "execution_count": 27,
   "id": "6f22bcbf",
   "metadata": {},
   "outputs": [],
   "source": [
    "def revString2(str):\n",
    "    if len(str) == 0:\n",
    "        return str\n",
    "    else: \n",
    "        return revString2(str[1:]) + str[0]"
   ]
  },
  {
   "cell_type": "code",
   "execution_count": 28,
   "id": "ce10681a",
   "metadata": {},
   "outputs": [
    {
     "data": {
      "text/plain": [
       "'snezitiC'"
      ]
     },
     "execution_count": 28,
     "metadata": {},
     "output_type": "execute_result"
    }
   ],
   "source": [
    "revString2(sent4[2])"
   ]
  },
  {
   "cell_type": "markdown",
   "id": "c670dfc9",
   "metadata": {},
   "source": [
    "# Q2. 사용자로부터 영어 문장을 입력 받아, 다음과 같이 각 단어의 길이 정보와 함께 출력해주는 함수를 정의하라. (각 단어 사이는 공백문자로 분리된다고 가정한다.)"
   ]
  },
  {
   "cell_type": "code",
   "execution_count": 3,
   "id": "8acbab61",
   "metadata": {},
   "outputs": [
    {
     "name": "stdout",
     "output_type": "stream",
     "text": [
      "Enter some text: time flies like an arrow\n"
     ]
    },
    {
     "data": {
      "text/plain": [
       "[('time', 4), ('flies', 5), ('like', 4), ('an', 2), ('arrow', 5)]"
      ]
     },
     "execution_count": 3,
     "metadata": {},
     "output_type": "execute_result"
    }
   ],
   "source": [
    "def wordlength():\n",
    "    string = input(\"Enter some text: \")\n",
    "    str = string.split(' ')\n",
    "    list = []\n",
    "    for i in range(len(str)):\n",
    "        tuple = (str[i], len(str[i]))\n",
    "        list.append(tuple)\n",
    "        \n",
    "    return list\n",
    "        \n",
    "wordlength()  "
   ]
  },
  {
   "cell_type": "markdown",
   "id": "3f2d9e43",
   "metadata": {},
   "source": [
    "# Q3. 아래와 같이 숫자 리스트를 입력 받아 제곱의 리스트를 반환하는 함수 square_numbers()를 정의하라."
   ]
  },
  {
   "cell_type": "code",
   "execution_count": 4,
   "id": "8706b123",
   "metadata": {},
   "outputs": [
    {
     "name": "stdout",
     "output_type": "stream",
     "text": [
      "[1, 4, 9, 16, 25]\n"
     ]
    }
   ],
   "source": [
    "def square_numbers(list):\n",
    "    List = [ i * i for i in list]      \n",
    " \n",
    "    return List\n",
    "\n",
    "x = square_numbers([1,2,3,4,5])\n",
    "print(x)"
   ]
  },
  {
   "cell_type": "markdown",
   "id": "18e5e9b6",
   "metadata": {},
   "source": [
    "# Q4. 주어진 텍스트의 첫 n개의 단어 중, 단어의 길이가 10 이상인 단어의 개수의 합을 출력하는 함수 word10()을 정의하라. 예를 들어, text1의 첫 단어 1000 단어 중 단어의 길이가 10 이상인 단어는 다음과 같으며, 출력결과는 아래와 같이 24로 나와야 한다."
   ]
  },
  {
   "cell_type": "code",
   "execution_count": 36,
   "id": "2431a96c",
   "metadata": {},
   "outputs": [
    {
     "data": {
      "text/plain": [
       "260819"
      ]
     },
     "execution_count": 36,
     "metadata": {},
     "output_type": "execute_result"
    }
   ],
   "source": [
    "len(text1)"
   ]
  },
  {
   "cell_type": "code",
   "execution_count": null,
   "id": "f923adba",
   "metadata": {},
   "outputs": [],
   "source": [
    "Text = text1[:1000]"
   ]
  },
  {
   "cell_type": "code",
   "execution_count": 68,
   "id": "6cd392bc",
   "metadata": {},
   "outputs": [
    {
     "data": {
      "text/plain": [
       "24"
      ]
     },
     "execution_count": 68,
     "metadata": {},
     "output_type": "execute_result"
    }
   ],
   "source": [
    "def word10(string, num):\n",
    "    if int(num) <= len(string):\n",
    "        Str = string[:num]\n",
    "        count = 0\n",
    "        for i in range(num):\n",
    "            if len(Str[i]) >= 10:\n",
    "                count = count + 1\n",
    "            else:\n",
    "                count = count\n",
    "                \n",
    "    return count\n",
    "                    \n",
    "word10(text1, 1000)"
   ]
  },
  {
   "cell_type": "markdown",
   "id": "3fc2e6fb",
   "metadata": {},
   "source": [
    "word10(text1, 1000)"
   ]
  },
  {
   "cell_type": "markdown",
   "id": "45c858c2",
   "metadata": {},
   "source": [
    "# Q5. 브라운 코퍼스에서 장르별로 임의의 단어 (ex. 'love', 'president', 'funny', 'crime') 의 분포를 아래 테이블 형식으로 출력하라."
   ]
  },
  {
   "cell_type": "code",
   "execution_count": 172,
   "id": "8487a878",
   "metadata": {},
   "outputs": [],
   "source": [
    "import nltk\n",
    "from nltk.corpus import *\n",
    "from nltk.corpus import brown"
   ]
  },
  {
   "cell_type": "code",
   "execution_count": 173,
   "id": "c78b1d91",
   "metadata": {},
   "outputs": [],
   "source": [
    "x = ['love', 'president', 'funny', 'crime']"
   ]
  },
  {
   "cell_type": "code",
   "execution_count": null,
   "id": "9a7e14db",
   "metadata": {},
   "outputs": [],
   "source": []
  },
  {
   "cell_type": "code",
   "execution_count": null,
   "id": "67234940",
   "metadata": {},
   "outputs": [],
   "source": []
  },
  {
   "cell_type": "code",
   "execution_count": null,
   "id": "fbfd9186",
   "metadata": {},
   "outputs": [],
   "source": []
  },
  {
   "cell_type": "code",
   "execution_count": null,
   "id": "b79042bd",
   "metadata": {},
   "outputs": [],
   "source": []
  },
  {
   "cell_type": "code",
   "execution_count": null,
   "id": "808b508d",
   "metadata": {},
   "outputs": [],
   "source": []
  },
  {
   "cell_type": "code",
   "execution_count": null,
   "id": "82fa5ae0",
   "metadata": {},
   "outputs": [],
   "source": []
  },
  {
   "cell_type": "markdown",
   "id": "fc66fa2e",
   "metadata": {},
   "source": [
    "# Q8.브라운코퍼스에서, 연달아 나타나는 2개의 단어에 대해서, 각 카테고리 별로 몇번 나타나는지를 출력해 주는 프로그램을 작성하라. 예를 들어, 아래 결과에 의하면, news 카테고리에서 ‘of the’가 나타난 빈도수는 844번이다. "
   ]
  },
  {
   "cell_type": "markdown",
   "id": "0bd91cdb",
   "metadata": {},
   "source": [
    "( category adventure : 368 ) ( category belles_letters : 1602 ) ..."
   ]
  },
  {
   "cell_type": "code",
   "execution_count": 141,
   "id": "0798280f",
   "metadata": {},
   "outputs": [],
   "source": [
    "import nltk\n",
    "from nltk.corpus import brown"
   ]
  },
  {
   "cell_type": "code",
   "execution_count": 142,
   "id": "d3513d7c",
   "metadata": {},
   "outputs": [],
   "source": [
    "from nltk.book import *"
   ]
  },
  {
   "cell_type": "code",
   "execution_count": 143,
   "id": "3bc1ca68",
   "metadata": {},
   "outputs": [],
   "source": [
    "Genre = [w for w in brown.categories()]"
   ]
  },
  {
   "cell_type": "code",
   "execution_count": 174,
   "id": "b5ca4391",
   "metadata": {},
   "outputs": [],
   "source": [
    "Word = [w for w in brown.words(categories=genre)]"
   ]
  },
  {
   "cell_type": "code",
   "execution_count": 176,
   "id": "3d5a7646",
   "metadata": {},
   "outputs": [
    {
     "name": "stdout",
     "output_type": "stream",
     "text": [
      "4825\n"
     ]
    }
   ],
   "source": [
    "count = 0\n",
    "for i in range(1,len(Word)):\n",
    "    if Word[i-1] == 'of' and Word[i] == 'the':\n",
    "        count += 1\n",
    "\n",
    "print(count)"
   ]
  },
  {
   "cell_type": "code",
   "execution_count": 96,
   "id": "983d1b67",
   "metadata": {},
   "outputs": [],
   "source": [
    "genres = ['adventure', 'belles_letters', 'editorial', 'fiction', 'government', 'hobbies', 'humor', 'learned', 'lore', 'mystery', 'news', 'religion', 'reviews', 'romance', 'science_fiction']"
   ]
  },
  {
   "cell_type": "code",
   "execution_count": 102,
   "id": "fe64188b",
   "metadata": {},
   "outputs": [],
   "source": [
    "genre = brown.words(categories='news')\n",
    "cfd = nltk.ConditionalFreqDist"
   ]
  },
  {
   "cell_type": "code",
   "execution_count": null,
   "id": "a468fb8f",
   "metadata": {},
   "outputs": [],
   "source": []
  },
  {
   "cell_type": "code",
   "execution_count": null,
   "id": "1d5debdd",
   "metadata": {},
   "outputs": [],
   "source": []
  },
  {
   "cell_type": "code",
   "execution_count": null,
   "id": "2ffd7969",
   "metadata": {},
   "outputs": [],
   "source": []
  },
  {
   "cell_type": "code",
   "execution_count": null,
   "id": "c24f9882",
   "metadata": {},
   "outputs": [],
   "source": []
  },
  {
   "cell_type": "code",
   "execution_count": null,
   "id": "20722e2b",
   "metadata": {},
   "outputs": [],
   "source": []
  },
  {
   "cell_type": "code",
   "execution_count": null,
   "id": "36a15948",
   "metadata": {},
   "outputs": [],
   "source": []
  },
  {
   "cell_type": "markdown",
   "id": "c90ef213",
   "metadata": {},
   "source": [
    "def liToString(str_list):\n",
    "    result = \"\"\n",
    "    for s in str_list:\n",
    "        result += s + \" \"\n",
    "    return result.strip()\n",
    "\n",
    "string = liToString(Word)\n",
    "string"
   ]
  },
  {
   "cell_type": "code",
   "execution_count": null,
   "id": "ce4a8030",
   "metadata": {},
   "outputs": [],
   "source": []
  }
 ],
 "metadata": {
  "kernelspec": {
   "display_name": "Python 3 (ipykernel)",
   "language": "python",
   "name": "python3"
  },
  "language_info": {
   "codemirror_mode": {
    "name": "ipython",
    "version": 3
   },
   "file_extension": ".py",
   "mimetype": "text/x-python",
   "name": "python",
   "nbconvert_exporter": "python",
   "pygments_lexer": "ipython3",
   "version": "3.9.7"
  }
 },
 "nbformat": 4,
 "nbformat_minor": 5
}
